{
 "cells": [
  {
   "cell_type": "code",
   "execution_count": 65,
   "id": "bcab5e82-cea2-445d-aa1b-d246adccc1ba",
   "metadata": {},
   "outputs": [
    {
     "data": {
      "text/html": [
       "        <script type=\"text/javascript\">\n",
       "        window.PlotlyConfig = {MathJaxConfig: 'local'};\n",
       "        if (window.MathJax) {MathJax.Hub.Config({SVG: {font: \"STIX-Web\"}});}\n",
       "        if (typeof require !== 'undefined') {\n",
       "        require.undef(\"plotly\");\n",
       "        requirejs.config({\n",
       "            paths: {\n",
       "                'plotly': ['https://cdn.plot.ly/plotly-2.9.0.min']\n",
       "            }\n",
       "        });\n",
       "        require(['plotly'], function(Plotly) {\n",
       "            window._Plotly = Plotly;\n",
       "        });\n",
       "        }\n",
       "        </script>\n",
       "        "
      ]
     },
     "metadata": {},
     "output_type": "display_data"
    }
   ],
   "source": [
    "import pandas as pd\n",
    "import numpy as np\n",
    "import matplotlib.pyplot as plt \n",
    "import plotly.express as px\n",
    "import plotly\n",
    "plotly.offline.init_notebook_mode(connected=True)"
   ]
  },
  {
   "cell_type": "markdown",
   "id": "94425fcc",
   "metadata": {},
   "source": [
    "Question 1. We have collected data on how many hours people play and watch games per week. On top of that we have collected data on what genres of games they play and also what is their most played game. We also have data on other groups questions that we have used to find cool correlations.\n",
    "\n",
    "Question 2. We would like to find the correlation between the amount people play games per week and the amount people watch people play games per week. On top of this we would like to find other correlations in regards to amount of hours playing games. For example we look at correlations such as the correlation between age and gaming hours, gender and gaming hours, and streaming videos and gaming hours.\n",
    "\n",
    "We were mainly curious about what behaviors are common amonst people that play games and if those features scale with the amount of time spent on games."
   ]
  },
  {
   "cell_type": "code",
   "execution_count": 66,
   "id": "a0718b42-2ca0-45ba-a66e-1d9f0897145a",
   "metadata": {
    "scrolled": false
   },
   "outputs": [
    {
     "data": {
      "text/html": [
       "<div>\n",
       "<style scoped>\n",
       "    .dataframe tbody tr th:only-of-type {\n",
       "        vertical-align: middle;\n",
       "    }\n",
       "\n",
       "    .dataframe tbody tr th {\n",
       "        vertical-align: top;\n",
       "    }\n",
       "\n",
       "    .dataframe thead th {\n",
       "        text-align: right;\n",
       "    }\n",
       "</style>\n",
       "<table border=\"1\" class=\"dataframe\">\n",
       "  <thead>\n",
       "    <tr style=\"text-align: right;\">\n",
       "      <th></th>\n",
       "      <th>HourPlayed</th>\n",
       "      <th>HourWatched</th>\n",
       "      <th>Genre</th>\n",
       "      <th>PlayMost</th>\n",
       "      <th>Streaming</th>\n",
       "      <th>Gender</th>\n",
       "    </tr>\n",
       "  </thead>\n",
       "  <tbody>\n",
       "    <tr>\n",
       "      <th>0</th>\n",
       "      <td>15</td>\n",
       "      <td>10</td>\n",
       "      <td>FPS, Fighting Games, Gatcha, Single Player Gam...</td>\n",
       "      <td>APEX LEGENDS</td>\n",
       "      <td>15.0</td>\n",
       "      <td>Male</td>\n",
       "    </tr>\n",
       "    <tr>\n",
       "      <th>1</th>\n",
       "      <td>0</td>\n",
       "      <td>0</td>\n",
       "      <td>None</td>\n",
       "      <td>NaN</td>\n",
       "      <td>14.0</td>\n",
       "      <td>Female</td>\n",
       "    </tr>\n",
       "    <tr>\n",
       "      <th>2</th>\n",
       "      <td>20</td>\n",
       "      <td>0</td>\n",
       "      <td>Gatcha, Single Player Games, RTS, Phone Games</td>\n",
       "      <td>Azur Lane</td>\n",
       "      <td>20.0</td>\n",
       "      <td>Male</td>\n",
       "    </tr>\n",
       "    <tr>\n",
       "      <th>3</th>\n",
       "      <td>20</td>\n",
       "      <td>8</td>\n",
       "      <td>FPS, Fighting Games, Gatcha, Single Player Gam...</td>\n",
       "      <td>Tower of Fantasy</td>\n",
       "      <td>15.0</td>\n",
       "      <td>Male</td>\n",
       "    </tr>\n",
       "    <tr>\n",
       "      <th>4</th>\n",
       "      <td>0</td>\n",
       "      <td>0</td>\n",
       "      <td>None</td>\n",
       "      <td>NaN</td>\n",
       "      <td>5.0</td>\n",
       "      <td>Female</td>\n",
       "    </tr>\n",
       "    <tr>\n",
       "      <th>5</th>\n",
       "      <td>0</td>\n",
       "      <td>0</td>\n",
       "      <td>None</td>\n",
       "      <td>NaN</td>\n",
       "      <td>4.0</td>\n",
       "      <td>Female</td>\n",
       "    </tr>\n",
       "    <tr>\n",
       "      <th>6</th>\n",
       "      <td>0</td>\n",
       "      <td>0</td>\n",
       "      <td>None</td>\n",
       "      <td>Na</td>\n",
       "      <td>5.0</td>\n",
       "      <td>Female</td>\n",
       "    </tr>\n",
       "    <tr>\n",
       "      <th>7</th>\n",
       "      <td>3</td>\n",
       "      <td>0</td>\n",
       "      <td>MOBA</td>\n",
       "      <td>League of Legends</td>\n",
       "      <td>3.0</td>\n",
       "      <td>Male</td>\n",
       "    </tr>\n",
       "    <tr>\n",
       "      <th>8</th>\n",
       "      <td>0</td>\n",
       "      <td>0</td>\n",
       "      <td>Phone Games</td>\n",
       "      <td>Wordle</td>\n",
       "      <td>10.0</td>\n",
       "      <td>Female</td>\n",
       "    </tr>\n",
       "    <tr>\n",
       "      <th>9</th>\n",
       "      <td>5</td>\n",
       "      <td>0</td>\n",
       "      <td>Phone Games</td>\n",
       "      <td>Sumikko Farm</td>\n",
       "      <td>22.0</td>\n",
       "      <td>Female</td>\n",
       "    </tr>\n",
       "    <tr>\n",
       "      <th>10</th>\n",
       "      <td>20</td>\n",
       "      <td>0</td>\n",
       "      <td>MOBA, FPS, Single Player Games, Phone Games</td>\n",
       "      <td>Genshin impact</td>\n",
       "      <td>40.0</td>\n",
       "      <td>Male</td>\n",
       "    </tr>\n",
       "    <tr>\n",
       "      <th>11</th>\n",
       "      <td>5</td>\n",
       "      <td>1</td>\n",
       "      <td>FPS, Single Player Games</td>\n",
       "      <td>Overwatch 2</td>\n",
       "      <td>10.0</td>\n",
       "      <td>Male</td>\n",
       "    </tr>\n",
       "    <tr>\n",
       "      <th>12</th>\n",
       "      <td>10</td>\n",
       "      <td>0</td>\n",
       "      <td>Gatcha, Single Player Games, Rhythm Games</td>\n",
       "      <td>Fire Emblem: Three Houses</td>\n",
       "      <td>25.0</td>\n",
       "      <td>Male</td>\n",
       "    </tr>\n",
       "    <tr>\n",
       "      <th>13</th>\n",
       "      <td>0</td>\n",
       "      <td>0</td>\n",
       "      <td>MOBA, FPS, Gatcha, MMORPG, Battle Royale, Phon...</td>\n",
       "      <td>Rust</td>\n",
       "      <td>10.0</td>\n",
       "      <td>Male</td>\n",
       "    </tr>\n",
       "    <tr>\n",
       "      <th>14</th>\n",
       "      <td>10</td>\n",
       "      <td>0</td>\n",
       "      <td>MOBA, FPS, Gatcha, Single Player Games, MMORPG...</td>\n",
       "      <td>Cookie Run: Kingdom</td>\n",
       "      <td>10.0</td>\n",
       "      <td>Male</td>\n",
       "    </tr>\n",
       "    <tr>\n",
       "      <th>15</th>\n",
       "      <td>5</td>\n",
       "      <td>3</td>\n",
       "      <td>MOBA, FPS, Single Player Games, Co-op Games, RTS</td>\n",
       "      <td>Europa Universalis 4</td>\n",
       "      <td>20.0</td>\n",
       "      <td>Male</td>\n",
       "    </tr>\n",
       "    <tr>\n",
       "      <th>16</th>\n",
       "      <td>4</td>\n",
       "      <td>2</td>\n",
       "      <td>MOBA, FPS, Fighting Games, Gatcha, Rhythm Games</td>\n",
       "      <td>Fate/Grand Order</td>\n",
       "      <td>84.0</td>\n",
       "      <td>Male</td>\n",
       "    </tr>\n",
       "    <tr>\n",
       "      <th>17</th>\n",
       "      <td>5</td>\n",
       "      <td>0</td>\n",
       "      <td>MOBA, Gatcha, Co-op Games</td>\n",
       "      <td>Genshin</td>\n",
       "      <td>3.0</td>\n",
       "      <td>Male</td>\n",
       "    </tr>\n",
       "    <tr>\n",
       "      <th>18</th>\n",
       "      <td>0</td>\n",
       "      <td>0</td>\n",
       "      <td>None</td>\n",
       "      <td>NaN</td>\n",
       "      <td>1.0</td>\n",
       "      <td>Female</td>\n",
       "    </tr>\n",
       "    <tr>\n",
       "      <th>19</th>\n",
       "      <td>3</td>\n",
       "      <td>0</td>\n",
       "      <td>FPS, Fighting Games, Gatcha, Single Player Gam...</td>\n",
       "      <td>Pokemon</td>\n",
       "      <td>10.0</td>\n",
       "      <td>Male</td>\n",
       "    </tr>\n",
       "  </tbody>\n",
       "</table>\n",
       "</div>"
      ],
      "text/plain": [
       "   HourPlayed HourWatched                                              Genre  \\\n",
       "0          15          10  FPS, Fighting Games, Gatcha, Single Player Gam...   \n",
       "1           0           0                                               None   \n",
       "2          20           0      Gatcha, Single Player Games, RTS, Phone Games   \n",
       "3          20           8  FPS, Fighting Games, Gatcha, Single Player Gam...   \n",
       "4           0           0                                               None   \n",
       "5           0           0                                               None   \n",
       "6           0           0                                               None   \n",
       "7           3           0                                               MOBA   \n",
       "8           0           0                                        Phone Games   \n",
       "9           5           0                                        Phone Games   \n",
       "10         20           0        MOBA, FPS, Single Player Games, Phone Games   \n",
       "11          5           1                           FPS, Single Player Games   \n",
       "12         10           0          Gatcha, Single Player Games, Rhythm Games   \n",
       "13          0           0  MOBA, FPS, Gatcha, MMORPG, Battle Royale, Phon...   \n",
       "14         10           0  MOBA, FPS, Gatcha, Single Player Games, MMORPG...   \n",
       "15          5           3   MOBA, FPS, Single Player Games, Co-op Games, RTS   \n",
       "16          4           2    MOBA, FPS, Fighting Games, Gatcha, Rhythm Games   \n",
       "17          5           0                          MOBA, Gatcha, Co-op Games   \n",
       "18          0           0                                               None   \n",
       "19          3           0  FPS, Fighting Games, Gatcha, Single Player Gam...   \n",
       "\n",
       "                     PlayMost  Streaming  Gender  \n",
       "0                APEX LEGENDS       15.0    Male  \n",
       "1                         NaN       14.0  Female  \n",
       "2                   Azur Lane       20.0    Male  \n",
       "3            Tower of Fantasy       15.0    Male  \n",
       "4                         NaN        5.0  Female  \n",
       "5                         NaN        4.0  Female  \n",
       "6                          Na        5.0  Female  \n",
       "7           League of Legends        3.0    Male  \n",
       "8                      Wordle       10.0  Female  \n",
       "9                Sumikko Farm       22.0  Female  \n",
       "10             Genshin impact       40.0    Male  \n",
       "11                Overwatch 2       10.0    Male  \n",
       "12  Fire Emblem: Three Houses       25.0    Male  \n",
       "13                       Rust       10.0    Male  \n",
       "14        Cookie Run: Kingdom       10.0    Male  \n",
       "15       Europa Universalis 4       20.0    Male  \n",
       "16           Fate/Grand Order       84.0    Male  \n",
       "17                    Genshin        3.0    Male  \n",
       "18                        NaN        1.0  Female  \n",
       "19                    Pokemon       10.0    Male  "
      ]
     },
     "execution_count": 66,
     "metadata": {},
     "output_type": "execute_result"
    }
   ],
   "source": [
    "df = pd.read_csv('responses.csv')\n",
    "streaming = df.iloc[:, 73]\n",
    "gender = df.iloc[:, 3]\n",
    "df = df.iloc[:, 74:78]\n",
    "df = df.rename(columns={'74. How many hours do you play video games in an average week? (PC, console, phone...)': 'HourPlayed', '75. How many hours do you spend watching gaming streams in a week?': 'HourWatched', '76. What genre of games do you play? (Select all that apply)': 'Genre', '77. What is the name of the game you play most?': 'PlayMost'})\n",
    "df.iloc[:, 0:2] = df.iloc[:, 0:2].replace(to_replace=r'[^\\d.]+', value='', regex=True)\n",
    "df.iloc[:, 0:2] = df.iloc[:, 0:2].replace(to_replace='', value=0)\n",
    "df.iloc[:, 0:2] = df.iloc[:, 0:2].replace(np.nan, 0)\n",
    "df.iloc[:, 2:3] = df.iloc[:, 2:3].fillna('None')\n",
    "\n",
    "df['Streaming'] = streaming.replace(to_replace=r'[^\\d.]+', value='', regex=True).replace(to_replace='', value=0).astype('float').dropna()\n",
    "df['Gender'] = gender\n",
    "df.head(20)"
   ]
  },
  {
   "cell_type": "markdown",
   "id": "d49ae64c",
   "metadata": {},
   "source": [
    "Hypothesis: The time spent per week streaming videos such as youtube or netflix will correlate with the amount of time per week spent playing video games.\n",
    "\n",
    "I think this is because people that play video games will also watch video games, thus increasing their time spent streaming videos. If this is true, I expect the correlation between hours spend watching games and hours playing games to be similar to the correlation between hours spent streaming videos and hours spent watching because there is an overlap between time spent streaming videos and time spent watching games.\n",
    "\n",
    "Therefore to test this hypothesis I will use the pearson correlation test because it checks for correlation between continuous numeric variables, which is applicable here as all variables are measured in time.\n",
    "\n",
    "I will be using the pearson correlation test on hours watching video games and hours playing video games, hours streaming videos and playing video games, and finally hours watching video games and hours streaming videos."
   ]
  },
  {
   "cell_type": "code",
   "execution_count": 67,
   "id": "caff9581",
   "metadata": {},
   "outputs": [
    {
     "name": "stdout",
     "output_type": "stream",
     "text": [
      "Pearson Correlation Coefficient between hours playing video games per week and hours streaming videos per week:  0.4314\n",
      "P-value for that correlation:  0.00001\n",
      "Pearson Correlation Coefficient between hours playing video games per week and hours watching video games per week:  0.4227\n",
      "P-value for that correlation:  0.00001\n",
      "Pearson Correlation Coefficient between hours watching video games per week and hours streaming videos per week:  0.3703\n",
      "P-value for that correlation:  0.00013\n"
     ]
    }
   ],
   "source": [
    "from scipy.stats.stats import pearsonr\n",
    "df['HourPlayed']=df['HourPlayed'].astype('float')\n",
    "df['HourWatched']=df['HourWatched'].astype('float')\n",
    "impdf = df.dropna(subset = ['Streaming'])\n",
    "(hpsr, hpsp) = pearsonr(impdf['HourPlayed'], impdf['Streaming'])\n",
    "(hpwr, hpwp) = pearsonr(impdf['HourPlayed'], impdf['HourWatched'])\n",
    "(wsr, wsp) = pearsonr(impdf['HourWatched'], impdf['Streaming'])\n",
    "\n",
    "print('Pearson Correlation Coefficient between hours playing video games per week and hours streaming videos per week: ', \\\n",
    "      round(hpsr, 4))\n",
    "print('P-value for that correlation: ', f'{hpsp:.5f}')\n",
    "print('Pearson Correlation Coefficient between hours playing video games per week and hours watching video games per week: ', \\\n",
    "     round(hpwr, 4))\n",
    "print('P-value for that correlation: ', f'{hpwp:.5f}')\n",
    "print('Pearson Correlation Coefficient between hours watching video games per week and hours streaming videos per week: ', \\\n",
    "     round(wsr, 4))\n",
    "print('P-value for that correlation: ', round(wsp, 5))"
   ]
  },
  {
   "cell_type": "markdown",
   "id": "0655b025",
   "metadata": {},
   "source": [
    "Conclusion: It appears that our hypothesis was correct! \n",
    "\n",
    "Notice the correlation between hours playing games and hours streaming videos is similar to the correlation between hours playing video games and hours watching video games. This means that hours playing games is about equal in predicting the hours spent streaming videos and also hours spent watching video games. This lines up with our hypothesis, I would argue that this is due to the overlap between watching games and streaming videos.\n",
    "\n",
    "Since the correlation coefficients of the two correlations are about 0.43, I argue that there is a weak-moderate correlation between the hours playing video games to both hours streaming videos and hours watching video games.\n",
    "\n",
    "The final part of this is to test whether the hours spent watching video games is correlated to the hours spent streaming videos. We got a pearson correlation coefficient of 0.37, which is lower than the previous coefficients. This means that the overlap between the hours streaming and hours watching video games is not more significant than the fact that people who play more video games also stream more videos in general.\n",
    "\n",
    "This would mean that people who play more video games also stream more videos, which could be used to imply that people who play more video games spend a lot more time on their electronic devices as they spend more time watching videos and playing video games.\n",
    "\n",
    "Of course this does not guarantee this, but from the data I would expect this to be true. To test further into this I would need data on how long everyone spends on electronic devices per week and take the correlations between that and hours playing games per week."
   ]
  },
  {
   "cell_type": "code",
   "execution_count": 27,
   "id": "8e99c274",
   "metadata": {
    "scrolled": false
   },
   "outputs": [
    {
     "data": {
      "application/vnd.plotly.v1+json": {
       "config": {
        "plotlyServerURL": "https://plot.ly"
       },
       "data": [
        {
         "hovertemplate": "Hours of Video Games Played Per Week=%{x}<br>Hours Streaming Videos Per Week=%{y}<extra></extra>",
         "legendgroup": "",
         "marker": {
          "color": "#636efa",
          "symbol": "circle"
         },
         "mode": "markers",
         "name": "",
         "orientation": "v",
         "showlegend": false,
         "type": "scatter",
         "x": [
          15,
          0,
          20,
          20,
          0,
          0,
          0,
          3,
          0,
          5,
          20,
          5,
          10,
          0,
          10,
          5,
          4,
          5,
          0,
          3,
          0,
          0,
          30,
          0,
          2,
          14,
          5,
          0,
          30,
          6,
          0,
          0,
          3,
          0,
          7,
          2,
          2,
          40,
          6,
          12,
          5,
          5,
          0,
          15,
          25,
          20,
          2,
          0,
          8,
          0,
          1,
          4,
          10,
          20,
          20,
          0,
          3,
          3,
          0,
          0,
          0,
          20,
          9,
          6,
          6,
          3,
          0,
          0,
          2,
          0,
          0,
          0,
          0,
          20,
          4,
          20,
          0,
          3,
          0,
          6,
          35,
          9,
          1,
          4,
          4,
          7,
          0,
          0,
          6,
          60,
          4,
          15,
          5,
          28,
          10,
          4,
          10,
          0,
          5,
          30,
          28,
          20
         ],
         "xaxis": "x",
         "y": [
          15,
          14,
          20,
          15,
          5,
          4,
          5,
          3,
          10,
          22,
          40,
          10,
          25,
          10,
          10,
          20,
          84,
          3,
          1,
          10,
          5,
          2,
          40,
          20,
          7,
          12,
          12,
          5,
          21,
          3,
          10,
          4,
          4,
          10,
          0,
          10,
          5,
          50,
          6,
          12,
          8,
          15,
          11,
          0,
          40,
          20,
          5,
          10,
          2,
          20,
          3,
          12,
          14,
          20,
          10,
          1,
          2,
          8,
          5,
          35,
          3,
          10,
          7,
          8,
          3,
          2,
          2,
          0.5,
          25,
          5,
          10,
          15,
          3,
          30,
          24,
          15,
          20,
          5,
          3,
          8,
          18,
          30,
          9,
          25,
          6,
          35,
          15,
          8,
          10,
          20,
          8,
          6,
          20,
          28,
          30,
          3,
          10,
          5,
          30,
          28,
          21,
          30
         ],
         "yaxis": "y"
        },
        {
         "alignmentgroup": "True",
         "bingroup": "x",
         "hovertemplate": "Hours of Video Games Played Per Week=%{x}<br>count=%{y}<extra></extra>",
         "legendgroup": "",
         "marker": {
          "color": "#636efa"
         },
         "name": "",
         "offsetgroup": "",
         "opacity": 0.5,
         "showlegend": false,
         "type": "histogram",
         "x": [
          15,
          0,
          20,
          20,
          0,
          0,
          0,
          3,
          0,
          5,
          20,
          5,
          10,
          0,
          10,
          5,
          4,
          5,
          0,
          3,
          0,
          0,
          30,
          0,
          2,
          14,
          5,
          0,
          30,
          6,
          0,
          0,
          3,
          0,
          7,
          2,
          2,
          40,
          6,
          12,
          5,
          5,
          0,
          15,
          25,
          20,
          2,
          0,
          8,
          0,
          1,
          4,
          10,
          20,
          20,
          0,
          3,
          3,
          0,
          0,
          0,
          20,
          9,
          6,
          6,
          3,
          0,
          0,
          2,
          0,
          0,
          0,
          0,
          20,
          4,
          20,
          0,
          3,
          0,
          6,
          35,
          9,
          1,
          4,
          4,
          7,
          0,
          0,
          6,
          60,
          4,
          15,
          5,
          28,
          10,
          4,
          10,
          0,
          5,
          30,
          28,
          20
         ],
         "xaxis": "x3",
         "yaxis": "y3"
        },
        {
         "alignmentgroup": "True",
         "bingroup": "y",
         "hovertemplate": "Hours Streaming Videos Per Week=%{y}<br>count=%{x}<extra></extra>",
         "legendgroup": "",
         "marker": {
          "color": "#636efa"
         },
         "name": "",
         "offsetgroup": "",
         "opacity": 0.5,
         "showlegend": false,
         "type": "histogram",
         "xaxis": "x2",
         "y": [
          15,
          14,
          20,
          15,
          5,
          4,
          5,
          3,
          10,
          22,
          40,
          10,
          25,
          10,
          10,
          20,
          84,
          3,
          1,
          10,
          5,
          2,
          40,
          20,
          7,
          12,
          12,
          5,
          21,
          3,
          10,
          4,
          4,
          10,
          0,
          10,
          5,
          50,
          6,
          12,
          8,
          15,
          11,
          0,
          40,
          20,
          5,
          10,
          2,
          20,
          3,
          12,
          14,
          20,
          10,
          1,
          2,
          8,
          5,
          35,
          3,
          10,
          7,
          8,
          3,
          2,
          2,
          0.5,
          25,
          5,
          10,
          15,
          3,
          30,
          24,
          15,
          20,
          5,
          3,
          8,
          18,
          30,
          9,
          25,
          6,
          35,
          15,
          8,
          10,
          20,
          8,
          6,
          20,
          28,
          30,
          3,
          10,
          5,
          30,
          28,
          21,
          30
         ],
         "yaxis": "y2"
        },
        {
         "hovertemplate": "<b>OLS trendline</b><br>Streaming = 0.5172 * HourPlayed + 9.60867<br>R<sup>2</sup>=0.186140<br><br>Hours of Video Games Played Per Week=%{x}<br>Hours Streaming Videos Per Week=%{y} <b>(trend)</b><extra></extra>",
         "legendgroup": "",
         "marker": {
          "color": "#636efa",
          "symbol": "circle"
         },
         "mode": "lines",
         "name": "",
         "showlegend": false,
         "type": "scatter",
         "x": [
          0,
          0,
          0,
          0,
          0,
          0,
          0,
          0,
          0,
          0,
          0,
          0,
          0,
          0,
          0,
          0,
          0,
          0,
          0,
          0,
          0,
          0,
          0,
          0,
          0,
          0,
          0,
          0,
          0,
          0,
          0,
          0,
          1,
          1,
          2,
          2,
          2,
          2,
          2,
          3,
          3,
          3,
          3,
          3,
          3,
          3,
          4,
          4,
          4,
          4,
          4,
          4,
          4,
          5,
          5,
          5,
          5,
          5,
          5,
          5,
          5,
          5,
          6,
          6,
          6,
          6,
          6,
          6,
          7,
          7,
          8,
          9,
          9,
          10,
          10,
          10,
          10,
          10,
          12,
          14,
          15,
          15,
          15,
          20,
          20,
          20,
          20,
          20,
          20,
          20,
          20,
          20,
          20,
          25,
          28,
          28,
          30,
          30,
          30,
          35,
          40,
          60
         ],
         "xaxis": "x",
         "y": [
          9.60867484225954,
          9.60867484225954,
          9.60867484225954,
          9.60867484225954,
          9.60867484225954,
          9.60867484225954,
          9.60867484225954,
          9.60867484225954,
          9.60867484225954,
          9.60867484225954,
          9.60867484225954,
          9.60867484225954,
          9.60867484225954,
          9.60867484225954,
          9.60867484225954,
          9.60867484225954,
          9.60867484225954,
          9.60867484225954,
          9.60867484225954,
          9.60867484225954,
          9.60867484225954,
          9.60867484225954,
          9.60867484225954,
          9.60867484225954,
          9.60867484225954,
          9.60867484225954,
          9.60867484225954,
          9.60867484225954,
          9.60867484225954,
          9.60867484225954,
          9.60867484225954,
          9.60867484225954,
          10.125875294780586,
          10.125875294780586,
          10.643075747301634,
          10.643075747301634,
          10.643075747301634,
          10.643075747301634,
          10.643075747301634,
          11.16027619982268,
          11.16027619982268,
          11.16027619982268,
          11.16027619982268,
          11.16027619982268,
          11.16027619982268,
          11.16027619982268,
          11.677476652343728,
          11.677476652343728,
          11.677476652343728,
          11.677476652343728,
          11.677476652343728,
          11.677476652343728,
          11.677476652343728,
          12.194677104864777,
          12.194677104864777,
          12.194677104864777,
          12.194677104864777,
          12.194677104864777,
          12.194677104864777,
          12.194677104864777,
          12.194677104864777,
          12.194677104864777,
          12.711877557385824,
          12.711877557385824,
          12.711877557385824,
          12.711877557385824,
          12.711877557385824,
          12.711877557385824,
          13.229078009906871,
          13.229078009906871,
          13.746278462427918,
          14.263478914948966,
          14.263478914948966,
          14.780679367470013,
          14.780679367470013,
          14.780679367470013,
          14.780679367470013,
          14.780679367470013,
          15.815080272512109,
          16.849481177554203,
          17.36668163007525,
          17.36668163007525,
          17.36668163007525,
          19.952683892680486,
          19.952683892680486,
          19.952683892680486,
          19.952683892680486,
          19.952683892680486,
          19.952683892680486,
          19.952683892680486,
          19.952683892680486,
          19.952683892680486,
          19.952683892680486,
          22.538686155285724,
          24.090287512848867,
          24.090287512848867,
          25.12468841789096,
          25.12468841789096,
          25.12468841789096,
          27.7106906804962,
          30.296692943101434,
          40.640701993522384
         ],
         "yaxis": "y"
        }
       ],
       "layout": {
        "barmode": "overlay",
        "legend": {
         "tracegroupgap": 0
        },
        "template": {
         "data": {
          "bar": [
           {
            "error_x": {
             "color": "#2a3f5f"
            },
            "error_y": {
             "color": "#2a3f5f"
            },
            "marker": {
             "line": {
              "color": "#E5ECF6",
              "width": 0.5
             },
             "pattern": {
              "fillmode": "overlay",
              "size": 10,
              "solidity": 0.2
             }
            },
            "type": "bar"
           }
          ],
          "barpolar": [
           {
            "marker": {
             "line": {
              "color": "#E5ECF6",
              "width": 0.5
             },
             "pattern": {
              "fillmode": "overlay",
              "size": 10,
              "solidity": 0.2
             }
            },
            "type": "barpolar"
           }
          ],
          "carpet": [
           {
            "aaxis": {
             "endlinecolor": "#2a3f5f",
             "gridcolor": "white",
             "linecolor": "white",
             "minorgridcolor": "white",
             "startlinecolor": "#2a3f5f"
            },
            "baxis": {
             "endlinecolor": "#2a3f5f",
             "gridcolor": "white",
             "linecolor": "white",
             "minorgridcolor": "white",
             "startlinecolor": "#2a3f5f"
            },
            "type": "carpet"
           }
          ],
          "choropleth": [
           {
            "colorbar": {
             "outlinewidth": 0,
             "ticks": ""
            },
            "type": "choropleth"
           }
          ],
          "contour": [
           {
            "colorbar": {
             "outlinewidth": 0,
             "ticks": ""
            },
            "colorscale": [
             [
              0,
              "#0d0887"
             ],
             [
              0.1111111111111111,
              "#46039f"
             ],
             [
              0.2222222222222222,
              "#7201a8"
             ],
             [
              0.3333333333333333,
              "#9c179e"
             ],
             [
              0.4444444444444444,
              "#bd3786"
             ],
             [
              0.5555555555555556,
              "#d8576b"
             ],
             [
              0.6666666666666666,
              "#ed7953"
             ],
             [
              0.7777777777777778,
              "#fb9f3a"
             ],
             [
              0.8888888888888888,
              "#fdca26"
             ],
             [
              1,
              "#f0f921"
             ]
            ],
            "type": "contour"
           }
          ],
          "contourcarpet": [
           {
            "colorbar": {
             "outlinewidth": 0,
             "ticks": ""
            },
            "type": "contourcarpet"
           }
          ],
          "heatmap": [
           {
            "colorbar": {
             "outlinewidth": 0,
             "ticks": ""
            },
            "colorscale": [
             [
              0,
              "#0d0887"
             ],
             [
              0.1111111111111111,
              "#46039f"
             ],
             [
              0.2222222222222222,
              "#7201a8"
             ],
             [
              0.3333333333333333,
              "#9c179e"
             ],
             [
              0.4444444444444444,
              "#bd3786"
             ],
             [
              0.5555555555555556,
              "#d8576b"
             ],
             [
              0.6666666666666666,
              "#ed7953"
             ],
             [
              0.7777777777777778,
              "#fb9f3a"
             ],
             [
              0.8888888888888888,
              "#fdca26"
             ],
             [
              1,
              "#f0f921"
             ]
            ],
            "type": "heatmap"
           }
          ],
          "heatmapgl": [
           {
            "colorbar": {
             "outlinewidth": 0,
             "ticks": ""
            },
            "colorscale": [
             [
              0,
              "#0d0887"
             ],
             [
              0.1111111111111111,
              "#46039f"
             ],
             [
              0.2222222222222222,
              "#7201a8"
             ],
             [
              0.3333333333333333,
              "#9c179e"
             ],
             [
              0.4444444444444444,
              "#bd3786"
             ],
             [
              0.5555555555555556,
              "#d8576b"
             ],
             [
              0.6666666666666666,
              "#ed7953"
             ],
             [
              0.7777777777777778,
              "#fb9f3a"
             ],
             [
              0.8888888888888888,
              "#fdca26"
             ],
             [
              1,
              "#f0f921"
             ]
            ],
            "type": "heatmapgl"
           }
          ],
          "histogram": [
           {
            "marker": {
             "pattern": {
              "fillmode": "overlay",
              "size": 10,
              "solidity": 0.2
             }
            },
            "type": "histogram"
           }
          ],
          "histogram2d": [
           {
            "colorbar": {
             "outlinewidth": 0,
             "ticks": ""
            },
            "colorscale": [
             [
              0,
              "#0d0887"
             ],
             [
              0.1111111111111111,
              "#46039f"
             ],
             [
              0.2222222222222222,
              "#7201a8"
             ],
             [
              0.3333333333333333,
              "#9c179e"
             ],
             [
              0.4444444444444444,
              "#bd3786"
             ],
             [
              0.5555555555555556,
              "#d8576b"
             ],
             [
              0.6666666666666666,
              "#ed7953"
             ],
             [
              0.7777777777777778,
              "#fb9f3a"
             ],
             [
              0.8888888888888888,
              "#fdca26"
             ],
             [
              1,
              "#f0f921"
             ]
            ],
            "type": "histogram2d"
           }
          ],
          "histogram2dcontour": [
           {
            "colorbar": {
             "outlinewidth": 0,
             "ticks": ""
            },
            "colorscale": [
             [
              0,
              "#0d0887"
             ],
             [
              0.1111111111111111,
              "#46039f"
             ],
             [
              0.2222222222222222,
              "#7201a8"
             ],
             [
              0.3333333333333333,
              "#9c179e"
             ],
             [
              0.4444444444444444,
              "#bd3786"
             ],
             [
              0.5555555555555556,
              "#d8576b"
             ],
             [
              0.6666666666666666,
              "#ed7953"
             ],
             [
              0.7777777777777778,
              "#fb9f3a"
             ],
             [
              0.8888888888888888,
              "#fdca26"
             ],
             [
              1,
              "#f0f921"
             ]
            ],
            "type": "histogram2dcontour"
           }
          ],
          "mesh3d": [
           {
            "colorbar": {
             "outlinewidth": 0,
             "ticks": ""
            },
            "type": "mesh3d"
           }
          ],
          "parcoords": [
           {
            "line": {
             "colorbar": {
              "outlinewidth": 0,
              "ticks": ""
             }
            },
            "type": "parcoords"
           }
          ],
          "pie": [
           {
            "automargin": true,
            "type": "pie"
           }
          ],
          "scatter": [
           {
            "marker": {
             "colorbar": {
              "outlinewidth": 0,
              "ticks": ""
             }
            },
            "type": "scatter"
           }
          ],
          "scatter3d": [
           {
            "line": {
             "colorbar": {
              "outlinewidth": 0,
              "ticks": ""
             }
            },
            "marker": {
             "colorbar": {
              "outlinewidth": 0,
              "ticks": ""
             }
            },
            "type": "scatter3d"
           }
          ],
          "scattercarpet": [
           {
            "marker": {
             "colorbar": {
              "outlinewidth": 0,
              "ticks": ""
             }
            },
            "type": "scattercarpet"
           }
          ],
          "scattergeo": [
           {
            "marker": {
             "colorbar": {
              "outlinewidth": 0,
              "ticks": ""
             }
            },
            "type": "scattergeo"
           }
          ],
          "scattergl": [
           {
            "marker": {
             "colorbar": {
              "outlinewidth": 0,
              "ticks": ""
             }
            },
            "type": "scattergl"
           }
          ],
          "scattermapbox": [
           {
            "marker": {
             "colorbar": {
              "outlinewidth": 0,
              "ticks": ""
             }
            },
            "type": "scattermapbox"
           }
          ],
          "scatterpolar": [
           {
            "marker": {
             "colorbar": {
              "outlinewidth": 0,
              "ticks": ""
             }
            },
            "type": "scatterpolar"
           }
          ],
          "scatterpolargl": [
           {
            "marker": {
             "colorbar": {
              "outlinewidth": 0,
              "ticks": ""
             }
            },
            "type": "scatterpolargl"
           }
          ],
          "scatterternary": [
           {
            "marker": {
             "colorbar": {
              "outlinewidth": 0,
              "ticks": ""
             }
            },
            "type": "scatterternary"
           }
          ],
          "surface": [
           {
            "colorbar": {
             "outlinewidth": 0,
             "ticks": ""
            },
            "colorscale": [
             [
              0,
              "#0d0887"
             ],
             [
              0.1111111111111111,
              "#46039f"
             ],
             [
              0.2222222222222222,
              "#7201a8"
             ],
             [
              0.3333333333333333,
              "#9c179e"
             ],
             [
              0.4444444444444444,
              "#bd3786"
             ],
             [
              0.5555555555555556,
              "#d8576b"
             ],
             [
              0.6666666666666666,
              "#ed7953"
             ],
             [
              0.7777777777777778,
              "#fb9f3a"
             ],
             [
              0.8888888888888888,
              "#fdca26"
             ],
             [
              1,
              "#f0f921"
             ]
            ],
            "type": "surface"
           }
          ],
          "table": [
           {
            "cells": {
             "fill": {
              "color": "#EBF0F8"
             },
             "line": {
              "color": "white"
             }
            },
            "header": {
             "fill": {
              "color": "#C8D4E3"
             },
             "line": {
              "color": "white"
             }
            },
            "type": "table"
           }
          ]
         },
         "layout": {
          "annotationdefaults": {
           "arrowcolor": "#2a3f5f",
           "arrowhead": 0,
           "arrowwidth": 1
          },
          "autotypenumbers": "strict",
          "coloraxis": {
           "colorbar": {
            "outlinewidth": 0,
            "ticks": ""
           }
          },
          "colorscale": {
           "diverging": [
            [
             0,
             "#8e0152"
            ],
            [
             0.1,
             "#c51b7d"
            ],
            [
             0.2,
             "#de77ae"
            ],
            [
             0.3,
             "#f1b6da"
            ],
            [
             0.4,
             "#fde0ef"
            ],
            [
             0.5,
             "#f7f7f7"
            ],
            [
             0.6,
             "#e6f5d0"
            ],
            [
             0.7,
             "#b8e186"
            ],
            [
             0.8,
             "#7fbc41"
            ],
            [
             0.9,
             "#4d9221"
            ],
            [
             1,
             "#276419"
            ]
           ],
           "sequential": [
            [
             0,
             "#0d0887"
            ],
            [
             0.1111111111111111,
             "#46039f"
            ],
            [
             0.2222222222222222,
             "#7201a8"
            ],
            [
             0.3333333333333333,
             "#9c179e"
            ],
            [
             0.4444444444444444,
             "#bd3786"
            ],
            [
             0.5555555555555556,
             "#d8576b"
            ],
            [
             0.6666666666666666,
             "#ed7953"
            ],
            [
             0.7777777777777778,
             "#fb9f3a"
            ],
            [
             0.8888888888888888,
             "#fdca26"
            ],
            [
             1,
             "#f0f921"
            ]
           ],
           "sequentialminus": [
            [
             0,
             "#0d0887"
            ],
            [
             0.1111111111111111,
             "#46039f"
            ],
            [
             0.2222222222222222,
             "#7201a8"
            ],
            [
             0.3333333333333333,
             "#9c179e"
            ],
            [
             0.4444444444444444,
             "#bd3786"
            ],
            [
             0.5555555555555556,
             "#d8576b"
            ],
            [
             0.6666666666666666,
             "#ed7953"
            ],
            [
             0.7777777777777778,
             "#fb9f3a"
            ],
            [
             0.8888888888888888,
             "#fdca26"
            ],
            [
             1,
             "#f0f921"
            ]
           ]
          },
          "colorway": [
           "#636efa",
           "#EF553B",
           "#00cc96",
           "#ab63fa",
           "#FFA15A",
           "#19d3f3",
           "#FF6692",
           "#B6E880",
           "#FF97FF",
           "#FECB52"
          ],
          "font": {
           "color": "#2a3f5f"
          },
          "geo": {
           "bgcolor": "white",
           "lakecolor": "white",
           "landcolor": "#E5ECF6",
           "showlakes": true,
           "showland": true,
           "subunitcolor": "white"
          },
          "hoverlabel": {
           "align": "left"
          },
          "hovermode": "closest",
          "mapbox": {
           "style": "light"
          },
          "paper_bgcolor": "white",
          "plot_bgcolor": "#E5ECF6",
          "polar": {
           "angularaxis": {
            "gridcolor": "white",
            "linecolor": "white",
            "ticks": ""
           },
           "bgcolor": "#E5ECF6",
           "radialaxis": {
            "gridcolor": "white",
            "linecolor": "white",
            "ticks": ""
           }
          },
          "scene": {
           "xaxis": {
            "backgroundcolor": "#E5ECF6",
            "gridcolor": "white",
            "gridwidth": 2,
            "linecolor": "white",
            "showbackground": true,
            "ticks": "",
            "zerolinecolor": "white"
           },
           "yaxis": {
            "backgroundcolor": "#E5ECF6",
            "gridcolor": "white",
            "gridwidth": 2,
            "linecolor": "white",
            "showbackground": true,
            "ticks": "",
            "zerolinecolor": "white"
           },
           "zaxis": {
            "backgroundcolor": "#E5ECF6",
            "gridcolor": "white",
            "gridwidth": 2,
            "linecolor": "white",
            "showbackground": true,
            "ticks": "",
            "zerolinecolor": "white"
           }
          },
          "shapedefaults": {
           "line": {
            "color": "#2a3f5f"
           }
          },
          "ternary": {
           "aaxis": {
            "gridcolor": "white",
            "linecolor": "white",
            "ticks": ""
           },
           "baxis": {
            "gridcolor": "white",
            "linecolor": "white",
            "ticks": ""
           },
           "bgcolor": "#E5ECF6",
           "caxis": {
            "gridcolor": "white",
            "linecolor": "white",
            "ticks": ""
           }
          },
          "title": {
           "x": 0.05
          },
          "xaxis": {
           "automargin": true,
           "gridcolor": "white",
           "linecolor": "white",
           "ticks": "",
           "title": {
            "standoff": 15
           },
           "zerolinecolor": "white",
           "zerolinewidth": 2
          },
          "yaxis": {
           "automargin": true,
           "gridcolor": "white",
           "linecolor": "white",
           "ticks": "",
           "title": {
            "standoff": 15
           },
           "zerolinecolor": "white",
           "zerolinewidth": 2
          }
         }
        },
        "title": {
         "text": "Hours Spent Streaming Videos Per Week vs. Hours Spend Playing Video Games Per Week"
        },
        "xaxis": {
         "anchor": "y",
         "domain": [
          0,
          0.7363
         ],
         "title": {
          "text": "Hours of Video Games Played Per Week"
         }
        },
        "xaxis2": {
         "anchor": "y2",
         "domain": [
          0.7413,
          1
         ],
         "matches": "x2",
         "showgrid": true,
         "showline": false,
         "showticklabels": false,
         "ticks": ""
        },
        "xaxis3": {
         "anchor": "y3",
         "domain": [
          0,
          0.7363
         ],
         "matches": "x",
         "showgrid": true,
         "showticklabels": false
        },
        "xaxis4": {
         "anchor": "y4",
         "domain": [
          0.7413,
          1
         ],
         "matches": "x2",
         "showgrid": true,
         "showline": false,
         "showticklabels": false,
         "ticks": ""
        },
        "yaxis": {
         "anchor": "x",
         "domain": [
          0,
          0.7326
         ],
         "title": {
          "text": "Hours Streaming Videos Per Week"
         }
        },
        "yaxis2": {
         "anchor": "x2",
         "domain": [
          0,
          0.7326
         ],
         "matches": "y",
         "showgrid": true,
         "showticklabels": false
        },
        "yaxis3": {
         "anchor": "x3",
         "domain": [
          0.7426,
          1
         ],
         "matches": "y3",
         "showgrid": true,
         "showline": false,
         "showticklabels": false,
         "ticks": ""
        },
        "yaxis4": {
         "anchor": "x4",
         "domain": [
          0.7426,
          1
         ],
         "matches": "y3",
         "showgrid": true,
         "showline": false,
         "showticklabels": false,
         "ticks": ""
        }
       }
      },
      "text/html": [
       "<div>                            <div id=\"80bfa378-1f8b-465b-bd88-6603cf2a9cc3\" class=\"plotly-graph-div\" style=\"height:525px; width:100%;\"></div>            <script type=\"text/javascript\">                require([\"plotly\"], function(Plotly) {                    window.PLOTLYENV=window.PLOTLYENV || {};                                    if (document.getElementById(\"80bfa378-1f8b-465b-bd88-6603cf2a9cc3\")) {                    Plotly.newPlot(                        \"80bfa378-1f8b-465b-bd88-6603cf2a9cc3\",                        [{\"hovertemplate\":\"Hours of Video Games Played Per Week=%{x}<br>Hours Streaming Videos Per Week=%{y}<extra></extra>\",\"legendgroup\":\"\",\"marker\":{\"color\":\"#636efa\",\"symbol\":\"circle\"},\"mode\":\"markers\",\"name\":\"\",\"orientation\":\"v\",\"showlegend\":false,\"x\":[15.0,0.0,20.0,20.0,0.0,0.0,0.0,3.0,0.0,5.0,20.0,5.0,10.0,0.0,10.0,5.0,4.0,5.0,0.0,3.0,0.0,0.0,30.0,0.0,2.0,14.0,5.0,0.0,30.0,6.0,0.0,0.0,3.0,0.0,7.0,2.0,2.0,40.0,6.0,12.0,5.0,5.0,0.0,15.0,25.0,20.0,2.0,0.0,8.0,0.0,1.0,4.0,10.0,20.0,20.0,0.0,3.0,3.0,0.0,0.0,0.0,20.0,9.0,6.0,6.0,3.0,0.0,0.0,2.0,0.0,0.0,0.0,0.0,20.0,4.0,20.0,0.0,3.0,0.0,6.0,35.0,9.0,1.0,4.0,4.0,7.0,0.0,0.0,6.0,60.0,4.0,15.0,5.0,28.0,10.0,4.0,10.0,0.0,5.0,30.0,28.0,20.0],\"xaxis\":\"x\",\"y\":[15.0,14.0,20.0,15.0,5.0,4.0,5.0,3.0,10.0,22.0,40.0,10.0,25.0,10.0,10.0,20.0,84.0,3.0,1.0,10.0,5.0,2.0,40.0,20.0,7.0,12.0,12.0,5.0,21.0,3.0,10.0,4.0,4.0,10.0,0.0,10.0,5.0,50.0,6.0,12.0,8.0,15.0,11.0,0.0,40.0,20.0,5.0,10.0,2.0,20.0,3.0,12.0,14.0,20.0,10.0,1.0,2.0,8.0,5.0,35.0,3.0,10.0,7.0,8.0,3.0,2.0,2.0,0.5,25.0,5.0,10.0,15.0,3.0,30.0,24.0,15.0,20.0,5.0,3.0,8.0,18.0,30.0,9.0,25.0,6.0,35.0,15.0,8.0,10.0,20.0,8.0,6.0,20.0,28.0,30.0,3.0,10.0,5.0,30.0,28.0,21.0,30.0],\"yaxis\":\"y\",\"type\":\"scatter\"},{\"alignmentgroup\":\"True\",\"bingroup\":\"x\",\"hovertemplate\":\"Hours of Video Games Played Per Week=%{x}<br>count=%{y}<extra></extra>\",\"legendgroup\":\"\",\"marker\":{\"color\":\"#636efa\"},\"name\":\"\",\"offsetgroup\":\"\",\"opacity\":0.5,\"showlegend\":false,\"x\":[15.0,0.0,20.0,20.0,0.0,0.0,0.0,3.0,0.0,5.0,20.0,5.0,10.0,0.0,10.0,5.0,4.0,5.0,0.0,3.0,0.0,0.0,30.0,0.0,2.0,14.0,5.0,0.0,30.0,6.0,0.0,0.0,3.0,0.0,7.0,2.0,2.0,40.0,6.0,12.0,5.0,5.0,0.0,15.0,25.0,20.0,2.0,0.0,8.0,0.0,1.0,4.0,10.0,20.0,20.0,0.0,3.0,3.0,0.0,0.0,0.0,20.0,9.0,6.0,6.0,3.0,0.0,0.0,2.0,0.0,0.0,0.0,0.0,20.0,4.0,20.0,0.0,3.0,0.0,6.0,35.0,9.0,1.0,4.0,4.0,7.0,0.0,0.0,6.0,60.0,4.0,15.0,5.0,28.0,10.0,4.0,10.0,0.0,5.0,30.0,28.0,20.0],\"xaxis\":\"x3\",\"yaxis\":\"y3\",\"type\":\"histogram\"},{\"alignmentgroup\":\"True\",\"bingroup\":\"y\",\"hovertemplate\":\"Hours Streaming Videos Per Week=%{y}<br>count=%{x}<extra></extra>\",\"legendgroup\":\"\",\"marker\":{\"color\":\"#636efa\"},\"name\":\"\",\"offsetgroup\":\"\",\"opacity\":0.5,\"showlegend\":false,\"xaxis\":\"x2\",\"y\":[15.0,14.0,20.0,15.0,5.0,4.0,5.0,3.0,10.0,22.0,40.0,10.0,25.0,10.0,10.0,20.0,84.0,3.0,1.0,10.0,5.0,2.0,40.0,20.0,7.0,12.0,12.0,5.0,21.0,3.0,10.0,4.0,4.0,10.0,0.0,10.0,5.0,50.0,6.0,12.0,8.0,15.0,11.0,0.0,40.0,20.0,5.0,10.0,2.0,20.0,3.0,12.0,14.0,20.0,10.0,1.0,2.0,8.0,5.0,35.0,3.0,10.0,7.0,8.0,3.0,2.0,2.0,0.5,25.0,5.0,10.0,15.0,3.0,30.0,24.0,15.0,20.0,5.0,3.0,8.0,18.0,30.0,9.0,25.0,6.0,35.0,15.0,8.0,10.0,20.0,8.0,6.0,20.0,28.0,30.0,3.0,10.0,5.0,30.0,28.0,21.0,30.0],\"yaxis\":\"y2\",\"type\":\"histogram\"},{\"hovertemplate\":\"<b>OLS trendline</b><br>Streaming = 0.5172 * HourPlayed + 9.60867<br>R<sup>2</sup>=0.186140<br><br>Hours of Video Games Played Per Week=%{x}<br>Hours Streaming Videos Per Week=%{y} <b>(trend)</b><extra></extra>\",\"legendgroup\":\"\",\"marker\":{\"color\":\"#636efa\",\"symbol\":\"circle\"},\"mode\":\"lines\",\"name\":\"\",\"showlegend\":false,\"x\":[0.0,0.0,0.0,0.0,0.0,0.0,0.0,0.0,0.0,0.0,0.0,0.0,0.0,0.0,0.0,0.0,0.0,0.0,0.0,0.0,0.0,0.0,0.0,0.0,0.0,0.0,0.0,0.0,0.0,0.0,0.0,0.0,1.0,1.0,2.0,2.0,2.0,2.0,2.0,3.0,3.0,3.0,3.0,3.0,3.0,3.0,4.0,4.0,4.0,4.0,4.0,4.0,4.0,5.0,5.0,5.0,5.0,5.0,5.0,5.0,5.0,5.0,6.0,6.0,6.0,6.0,6.0,6.0,7.0,7.0,8.0,9.0,9.0,10.0,10.0,10.0,10.0,10.0,12.0,14.0,15.0,15.0,15.0,20.0,20.0,20.0,20.0,20.0,20.0,20.0,20.0,20.0,20.0,25.0,28.0,28.0,30.0,30.0,30.0,35.0,40.0,60.0],\"xaxis\":\"x\",\"y\":[9.60867484225954,9.60867484225954,9.60867484225954,9.60867484225954,9.60867484225954,9.60867484225954,9.60867484225954,9.60867484225954,9.60867484225954,9.60867484225954,9.60867484225954,9.60867484225954,9.60867484225954,9.60867484225954,9.60867484225954,9.60867484225954,9.60867484225954,9.60867484225954,9.60867484225954,9.60867484225954,9.60867484225954,9.60867484225954,9.60867484225954,9.60867484225954,9.60867484225954,9.60867484225954,9.60867484225954,9.60867484225954,9.60867484225954,9.60867484225954,9.60867484225954,9.60867484225954,10.125875294780586,10.125875294780586,10.643075747301634,10.643075747301634,10.643075747301634,10.643075747301634,10.643075747301634,11.16027619982268,11.16027619982268,11.16027619982268,11.16027619982268,11.16027619982268,11.16027619982268,11.16027619982268,11.677476652343728,11.677476652343728,11.677476652343728,11.677476652343728,11.677476652343728,11.677476652343728,11.677476652343728,12.194677104864777,12.194677104864777,12.194677104864777,12.194677104864777,12.194677104864777,12.194677104864777,12.194677104864777,12.194677104864777,12.194677104864777,12.711877557385824,12.711877557385824,12.711877557385824,12.711877557385824,12.711877557385824,12.711877557385824,13.229078009906871,13.229078009906871,13.746278462427918,14.263478914948966,14.263478914948966,14.780679367470013,14.780679367470013,14.780679367470013,14.780679367470013,14.780679367470013,15.815080272512109,16.849481177554203,17.36668163007525,17.36668163007525,17.36668163007525,19.952683892680486,19.952683892680486,19.952683892680486,19.952683892680486,19.952683892680486,19.952683892680486,19.952683892680486,19.952683892680486,19.952683892680486,19.952683892680486,22.538686155285724,24.090287512848867,24.090287512848867,25.12468841789096,25.12468841789096,25.12468841789096,27.7106906804962,30.296692943101434,40.640701993522384],\"yaxis\":\"y\",\"type\":\"scatter\"}],                        {\"template\":{\"data\":{\"bar\":[{\"error_x\":{\"color\":\"#2a3f5f\"},\"error_y\":{\"color\":\"#2a3f5f\"},\"marker\":{\"line\":{\"color\":\"#E5ECF6\",\"width\":0.5},\"pattern\":{\"fillmode\":\"overlay\",\"size\":10,\"solidity\":0.2}},\"type\":\"bar\"}],\"barpolar\":[{\"marker\":{\"line\":{\"color\":\"#E5ECF6\",\"width\":0.5},\"pattern\":{\"fillmode\":\"overlay\",\"size\":10,\"solidity\":0.2}},\"type\":\"barpolar\"}],\"carpet\":[{\"aaxis\":{\"endlinecolor\":\"#2a3f5f\",\"gridcolor\":\"white\",\"linecolor\":\"white\",\"minorgridcolor\":\"white\",\"startlinecolor\":\"#2a3f5f\"},\"baxis\":{\"endlinecolor\":\"#2a3f5f\",\"gridcolor\":\"white\",\"linecolor\":\"white\",\"minorgridcolor\":\"white\",\"startlinecolor\":\"#2a3f5f\"},\"type\":\"carpet\"}],\"choropleth\":[{\"colorbar\":{\"outlinewidth\":0,\"ticks\":\"\"},\"type\":\"choropleth\"}],\"contour\":[{\"colorbar\":{\"outlinewidth\":0,\"ticks\":\"\"},\"colorscale\":[[0.0,\"#0d0887\"],[0.1111111111111111,\"#46039f\"],[0.2222222222222222,\"#7201a8\"],[0.3333333333333333,\"#9c179e\"],[0.4444444444444444,\"#bd3786\"],[0.5555555555555556,\"#d8576b\"],[0.6666666666666666,\"#ed7953\"],[0.7777777777777778,\"#fb9f3a\"],[0.8888888888888888,\"#fdca26\"],[1.0,\"#f0f921\"]],\"type\":\"contour\"}],\"contourcarpet\":[{\"colorbar\":{\"outlinewidth\":0,\"ticks\":\"\"},\"type\":\"contourcarpet\"}],\"heatmap\":[{\"colorbar\":{\"outlinewidth\":0,\"ticks\":\"\"},\"colorscale\":[[0.0,\"#0d0887\"],[0.1111111111111111,\"#46039f\"],[0.2222222222222222,\"#7201a8\"],[0.3333333333333333,\"#9c179e\"],[0.4444444444444444,\"#bd3786\"],[0.5555555555555556,\"#d8576b\"],[0.6666666666666666,\"#ed7953\"],[0.7777777777777778,\"#fb9f3a\"],[0.8888888888888888,\"#fdca26\"],[1.0,\"#f0f921\"]],\"type\":\"heatmap\"}],\"heatmapgl\":[{\"colorbar\":{\"outlinewidth\":0,\"ticks\":\"\"},\"colorscale\":[[0.0,\"#0d0887\"],[0.1111111111111111,\"#46039f\"],[0.2222222222222222,\"#7201a8\"],[0.3333333333333333,\"#9c179e\"],[0.4444444444444444,\"#bd3786\"],[0.5555555555555556,\"#d8576b\"],[0.6666666666666666,\"#ed7953\"],[0.7777777777777778,\"#fb9f3a\"],[0.8888888888888888,\"#fdca26\"],[1.0,\"#f0f921\"]],\"type\":\"heatmapgl\"}],\"histogram\":[{\"marker\":{\"pattern\":{\"fillmode\":\"overlay\",\"size\":10,\"solidity\":0.2}},\"type\":\"histogram\"}],\"histogram2d\":[{\"colorbar\":{\"outlinewidth\":0,\"ticks\":\"\"},\"colorscale\":[[0.0,\"#0d0887\"],[0.1111111111111111,\"#46039f\"],[0.2222222222222222,\"#7201a8\"],[0.3333333333333333,\"#9c179e\"],[0.4444444444444444,\"#bd3786\"],[0.5555555555555556,\"#d8576b\"],[0.6666666666666666,\"#ed7953\"],[0.7777777777777778,\"#fb9f3a\"],[0.8888888888888888,\"#fdca26\"],[1.0,\"#f0f921\"]],\"type\":\"histogram2d\"}],\"histogram2dcontour\":[{\"colorbar\":{\"outlinewidth\":0,\"ticks\":\"\"},\"colorscale\":[[0.0,\"#0d0887\"],[0.1111111111111111,\"#46039f\"],[0.2222222222222222,\"#7201a8\"],[0.3333333333333333,\"#9c179e\"],[0.4444444444444444,\"#bd3786\"],[0.5555555555555556,\"#d8576b\"],[0.6666666666666666,\"#ed7953\"],[0.7777777777777778,\"#fb9f3a\"],[0.8888888888888888,\"#fdca26\"],[1.0,\"#f0f921\"]],\"type\":\"histogram2dcontour\"}],\"mesh3d\":[{\"colorbar\":{\"outlinewidth\":0,\"ticks\":\"\"},\"type\":\"mesh3d\"}],\"parcoords\":[{\"line\":{\"colorbar\":{\"outlinewidth\":0,\"ticks\":\"\"}},\"type\":\"parcoords\"}],\"pie\":[{\"automargin\":true,\"type\":\"pie\"}],\"scatter\":[{\"marker\":{\"colorbar\":{\"outlinewidth\":0,\"ticks\":\"\"}},\"type\":\"scatter\"}],\"scatter3d\":[{\"line\":{\"colorbar\":{\"outlinewidth\":0,\"ticks\":\"\"}},\"marker\":{\"colorbar\":{\"outlinewidth\":0,\"ticks\":\"\"}},\"type\":\"scatter3d\"}],\"scattercarpet\":[{\"marker\":{\"colorbar\":{\"outlinewidth\":0,\"ticks\":\"\"}},\"type\":\"scattercarpet\"}],\"scattergeo\":[{\"marker\":{\"colorbar\":{\"outlinewidth\":0,\"ticks\":\"\"}},\"type\":\"scattergeo\"}],\"scattergl\":[{\"marker\":{\"colorbar\":{\"outlinewidth\":0,\"ticks\":\"\"}},\"type\":\"scattergl\"}],\"scattermapbox\":[{\"marker\":{\"colorbar\":{\"outlinewidth\":0,\"ticks\":\"\"}},\"type\":\"scattermapbox\"}],\"scatterpolar\":[{\"marker\":{\"colorbar\":{\"outlinewidth\":0,\"ticks\":\"\"}},\"type\":\"scatterpolar\"}],\"scatterpolargl\":[{\"marker\":{\"colorbar\":{\"outlinewidth\":0,\"ticks\":\"\"}},\"type\":\"scatterpolargl\"}],\"scatterternary\":[{\"marker\":{\"colorbar\":{\"outlinewidth\":0,\"ticks\":\"\"}},\"type\":\"scatterternary\"}],\"surface\":[{\"colorbar\":{\"outlinewidth\":0,\"ticks\":\"\"},\"colorscale\":[[0.0,\"#0d0887\"],[0.1111111111111111,\"#46039f\"],[0.2222222222222222,\"#7201a8\"],[0.3333333333333333,\"#9c179e\"],[0.4444444444444444,\"#bd3786\"],[0.5555555555555556,\"#d8576b\"],[0.6666666666666666,\"#ed7953\"],[0.7777777777777778,\"#fb9f3a\"],[0.8888888888888888,\"#fdca26\"],[1.0,\"#f0f921\"]],\"type\":\"surface\"}],\"table\":[{\"cells\":{\"fill\":{\"color\":\"#EBF0F8\"},\"line\":{\"color\":\"white\"}},\"header\":{\"fill\":{\"color\":\"#C8D4E3\"},\"line\":{\"color\":\"white\"}},\"type\":\"table\"}]},\"layout\":{\"annotationdefaults\":{\"arrowcolor\":\"#2a3f5f\",\"arrowhead\":0,\"arrowwidth\":1},\"autotypenumbers\":\"strict\",\"coloraxis\":{\"colorbar\":{\"outlinewidth\":0,\"ticks\":\"\"}},\"colorscale\":{\"diverging\":[[0,\"#8e0152\"],[0.1,\"#c51b7d\"],[0.2,\"#de77ae\"],[0.3,\"#f1b6da\"],[0.4,\"#fde0ef\"],[0.5,\"#f7f7f7\"],[0.6,\"#e6f5d0\"],[0.7,\"#b8e186\"],[0.8,\"#7fbc41\"],[0.9,\"#4d9221\"],[1,\"#276419\"]],\"sequential\":[[0.0,\"#0d0887\"],[0.1111111111111111,\"#46039f\"],[0.2222222222222222,\"#7201a8\"],[0.3333333333333333,\"#9c179e\"],[0.4444444444444444,\"#bd3786\"],[0.5555555555555556,\"#d8576b\"],[0.6666666666666666,\"#ed7953\"],[0.7777777777777778,\"#fb9f3a\"],[0.8888888888888888,\"#fdca26\"],[1.0,\"#f0f921\"]],\"sequentialminus\":[[0.0,\"#0d0887\"],[0.1111111111111111,\"#46039f\"],[0.2222222222222222,\"#7201a8\"],[0.3333333333333333,\"#9c179e\"],[0.4444444444444444,\"#bd3786\"],[0.5555555555555556,\"#d8576b\"],[0.6666666666666666,\"#ed7953\"],[0.7777777777777778,\"#fb9f3a\"],[0.8888888888888888,\"#fdca26\"],[1.0,\"#f0f921\"]]},\"colorway\":[\"#636efa\",\"#EF553B\",\"#00cc96\",\"#ab63fa\",\"#FFA15A\",\"#19d3f3\",\"#FF6692\",\"#B6E880\",\"#FF97FF\",\"#FECB52\"],\"font\":{\"color\":\"#2a3f5f\"},\"geo\":{\"bgcolor\":\"white\",\"lakecolor\":\"white\",\"landcolor\":\"#E5ECF6\",\"showlakes\":true,\"showland\":true,\"subunitcolor\":\"white\"},\"hoverlabel\":{\"align\":\"left\"},\"hovermode\":\"closest\",\"mapbox\":{\"style\":\"light\"},\"paper_bgcolor\":\"white\",\"plot_bgcolor\":\"#E5ECF6\",\"polar\":{\"angularaxis\":{\"gridcolor\":\"white\",\"linecolor\":\"white\",\"ticks\":\"\"},\"bgcolor\":\"#E5ECF6\",\"radialaxis\":{\"gridcolor\":\"white\",\"linecolor\":\"white\",\"ticks\":\"\"}},\"scene\":{\"xaxis\":{\"backgroundcolor\":\"#E5ECF6\",\"gridcolor\":\"white\",\"gridwidth\":2,\"linecolor\":\"white\",\"showbackground\":true,\"ticks\":\"\",\"zerolinecolor\":\"white\"},\"yaxis\":{\"backgroundcolor\":\"#E5ECF6\",\"gridcolor\":\"white\",\"gridwidth\":2,\"linecolor\":\"white\",\"showbackground\":true,\"ticks\":\"\",\"zerolinecolor\":\"white\"},\"zaxis\":{\"backgroundcolor\":\"#E5ECF6\",\"gridcolor\":\"white\",\"gridwidth\":2,\"linecolor\":\"white\",\"showbackground\":true,\"ticks\":\"\",\"zerolinecolor\":\"white\"}},\"shapedefaults\":{\"line\":{\"color\":\"#2a3f5f\"}},\"ternary\":{\"aaxis\":{\"gridcolor\":\"white\",\"linecolor\":\"white\",\"ticks\":\"\"},\"baxis\":{\"gridcolor\":\"white\",\"linecolor\":\"white\",\"ticks\":\"\"},\"bgcolor\":\"#E5ECF6\",\"caxis\":{\"gridcolor\":\"white\",\"linecolor\":\"white\",\"ticks\":\"\"}},\"title\":{\"x\":0.05},\"xaxis\":{\"automargin\":true,\"gridcolor\":\"white\",\"linecolor\":\"white\",\"ticks\":\"\",\"title\":{\"standoff\":15},\"zerolinecolor\":\"white\",\"zerolinewidth\":2},\"yaxis\":{\"automargin\":true,\"gridcolor\":\"white\",\"linecolor\":\"white\",\"ticks\":\"\",\"title\":{\"standoff\":15},\"zerolinecolor\":\"white\",\"zerolinewidth\":2}}},\"xaxis\":{\"anchor\":\"y\",\"domain\":[0.0,0.7363],\"title\":{\"text\":\"Hours of Video Games Played Per Week\"}},\"yaxis\":{\"anchor\":\"x\",\"domain\":[0.0,0.7326],\"title\":{\"text\":\"Hours Streaming Videos Per Week\"}},\"xaxis2\":{\"anchor\":\"y2\",\"domain\":[0.7413,1.0],\"matches\":\"x2\",\"showticklabels\":false,\"showline\":false,\"ticks\":\"\",\"showgrid\":true},\"yaxis2\":{\"anchor\":\"x2\",\"domain\":[0.0,0.7326],\"matches\":\"y\",\"showticklabels\":false,\"showgrid\":true},\"xaxis3\":{\"anchor\":\"y3\",\"domain\":[0.0,0.7363],\"matches\":\"x\",\"showticklabels\":false,\"showgrid\":true},\"yaxis3\":{\"anchor\":\"x3\",\"domain\":[0.7426,1.0],\"matches\":\"y3\",\"showticklabels\":false,\"showline\":false,\"ticks\":\"\",\"showgrid\":true},\"xaxis4\":{\"anchor\":\"y4\",\"domain\":[0.7413,1.0],\"matches\":\"x2\",\"showticklabels\":false,\"showgrid\":true,\"showline\":false,\"ticks\":\"\"},\"yaxis4\":{\"anchor\":\"x4\",\"domain\":[0.7426,1.0],\"matches\":\"y3\",\"showticklabels\":false,\"showline\":false,\"ticks\":\"\",\"showgrid\":true},\"legend\":{\"tracegroupgap\":0},\"title\":{\"text\":\"Hours Spent Streaming Videos Per Week vs. Hours Spend Playing Video Games Per Week\"},\"barmode\":\"overlay\"},                        {\"responsive\": true}                    ).then(function(){\n",
       "                            \n",
       "var gd = document.getElementById('80bfa378-1f8b-465b-bd88-6603cf2a9cc3');\n",
       "var x = new MutationObserver(function (mutations, observer) {{\n",
       "        var display = window.getComputedStyle(gd).display;\n",
       "        if (!display || display === 'none') {{\n",
       "            console.log([gd, 'removed!']);\n",
       "            Plotly.purge(gd);\n",
       "            observer.disconnect();\n",
       "        }}\n",
       "}});\n",
       "\n",
       "// Listen for the removal of the full notebook cells\n",
       "var notebookContainer = gd.closest('#notebook-container');\n",
       "if (notebookContainer) {{\n",
       "    x.observe(notebookContainer, {childList: true});\n",
       "}}\n",
       "\n",
       "// Listen for the clearing of the current output cell\n",
       "var outputEl = gd.closest('.output');\n",
       "if (outputEl) {{\n",
       "    x.observe(outputEl, {childList: true});\n",
       "}}\n",
       "\n",
       "                        })                };                });            </script>        </div>"
      ]
     },
     "metadata": {},
     "output_type": "display_data"
    }
   ],
   "source": [
    "import plotly.express as px\n",
    "\n",
    "fig = px.scatter(impdf, x=\"HourPlayed\", y=\"Streaming\", marginal_x=\"histogram\", marginal_y=\"histogram\", trendline='ols', labels = {\n",
    "    \"HourPlayed\": \"Hours of Video Games Played Per Week\",\n",
    "    \"Streaming\": \"Hours Streaming Videos Per Week\"\n",
    "}, title = \"Hours Spent Streaming Videos Per Week vs. Hours Spend Playing Video Games Per Week\")\n",
    "fig.show()"
   ]
  },
  {
   "cell_type": "markdown",
   "id": "573685bc",
   "metadata": {},
   "source": [
    "This visualization shows the distribution of both datasets whilst also showing the scatterplot of the data and the trendline. This visualization is meant to show that both datasets are skewed to the right because from the data we collected, most people did not watch or play that many games.\n",
    "\n",
    "This visualization is being used to show how our data is not entirely evenly distributed so the results may be skewed as well when calculating correlation coefficients."
   ]
  },
  {
   "cell_type": "code",
   "execution_count": 28,
   "id": "23b993cb",
   "metadata": {},
   "outputs": [
    {
     "name": "stderr",
     "output_type": "stream",
     "text": [
      "C:\\Users\\jacks\\AppData\\Local\\Temp\\ipykernel_4192\\3747005512.py:1: SettingWithCopyWarning:\n",
      "\n",
      "\n",
      "A value is trying to be set on a copy of a slice from a DataFrame.\n",
      "Try using .loc[row_indexer,col_indexer] = value instead\n",
      "\n",
      "See the caveats in the documentation: https://pandas.pydata.org/pandas-docs/stable/user_guide/indexing.html#returning-a-view-versus-a-copy\n",
      "\n"
     ]
    },
    {
     "data": {
      "application/vnd.plotly.v1+json": {
       "config": {
        "plotlyServerURL": "https://plot.ly"
       },
       "data": [
        {
         "dimensions": [
          {
           "label": "Hours of Video Games Played",
           "values": [
            15,
            0,
            20,
            20,
            0,
            0,
            0,
            3,
            0,
            5,
            20,
            5,
            10,
            0,
            10,
            5,
            4,
            5,
            0,
            3,
            0,
            0,
            30,
            0,
            2,
            14,
            5,
            0,
            30,
            6,
            0,
            0,
            3,
            0,
            7,
            2,
            2,
            40,
            6,
            12,
            5,
            5,
            0,
            15,
            25,
            20,
            2,
            0,
            8,
            0,
            1,
            4,
            10,
            20,
            20,
            0,
            3,
            3,
            0,
            0,
            0,
            20,
            9,
            6,
            6,
            3,
            0,
            0,
            2,
            0,
            0,
            0,
            0,
            20,
            4,
            20,
            0,
            3,
            0,
            6,
            35,
            9,
            1,
            4,
            4,
            7,
            0,
            0,
            6,
            60,
            4,
            15,
            5,
            28,
            10,
            4,
            10,
            0,
            5,
            30,
            28,
            20
           ]
          },
          {
           "label": "Hours of Watching Video Games",
           "values": [
            10,
            0,
            0,
            8,
            0,
            0,
            0,
            0,
            0,
            0,
            0,
            1,
            0,
            0,
            0,
            3,
            2,
            0,
            0,
            0,
            0,
            0,
            10,
            0,
            7,
            0,
            0,
            0,
            4,
            1,
            0,
            0,
            0,
            0,
            0,
            0,
            0,
            10,
            2,
            0,
            0,
            1,
            0,
            0,
            15,
            2,
            0,
            0,
            4,
            0,
            0,
            0,
            10,
            0,
            0,
            0,
            0,
            0,
            0,
            0,
            0,
            0,
            0,
            1,
            2,
            0,
            0,
            0,
            0,
            0,
            0,
            0,
            0,
            0,
            0,
            0,
            0,
            0,
            0,
            0,
            2,
            9,
            0,
            0,
            0,
            10,
            0,
            0,
            6,
            0,
            0,
            5,
            0,
            28,
            0,
            0,
            0,
            0,
            0,
            4,
            2,
            1
           ]
          },
          {
           "label": "Hours Streaming Videos",
           "values": [
            15,
            14,
            20,
            15,
            5,
            4,
            5,
            3,
            10,
            22,
            40,
            10,
            25,
            10,
            10,
            20,
            84,
            3,
            1,
            10,
            5,
            2,
            40,
            20,
            7,
            12,
            12,
            5,
            21,
            3,
            10,
            4,
            4,
            10,
            0,
            10,
            5,
            50,
            6,
            12,
            8,
            15,
            11,
            0,
            40,
            20,
            5,
            10,
            2,
            20,
            3,
            12,
            14,
            20,
            10,
            1,
            2,
            8,
            5,
            35,
            3,
            10,
            7,
            8,
            3,
            2,
            2,
            0.5,
            25,
            5,
            10,
            15,
            3,
            30,
            24,
            15,
            20,
            5,
            3,
            8,
            18,
            30,
            9,
            25,
            6,
            35,
            15,
            8,
            10,
            20,
            8,
            6,
            20,
            28,
            30,
            3,
            10,
            5,
            30,
            28,
            21,
            30
           ]
          }
         ],
         "domain": {
          "x": [
           0,
           1
          ],
          "y": [
           0,
           1
          ]
         },
         "line": {
          "color": [
           1,
           3,
           1,
           1,
           3,
           3,
           3,
           1,
           3,
           3,
           1,
           1,
           1,
           1,
           1,
           1,
           1,
           1,
           3,
           1,
           1,
           3,
           1,
           1,
           1,
           1,
           1,
           1,
           1,
           1,
           3,
           3,
           1,
           1,
           1,
           3,
           3,
           1,
           1,
           1,
           1,
           1,
           3,
           1,
           1,
           1,
           3,
           1,
           1,
           1,
           1,
           1,
           3,
           2,
           1,
           1,
           1,
           1,
           3,
           1,
           3,
           1,
           1,
           1,
           1,
           3,
           1,
           3,
           1,
           2,
           3,
           3,
           1,
           1,
           1,
           1,
           1,
           1,
           3,
           1,
           1,
           1,
           1,
           1,
           1,
           3,
           1,
           3,
           1,
           1,
           1,
           1,
           1,
           1,
           2,
           1,
           1,
           1,
           1,
           1,
           1,
           1
          ],
          "coloraxis": "coloraxis"
         },
         "name": "",
         "type": "parcoords"
        }
       ],
       "layout": {
        "coloraxis": {
         "colorbar": {
          "title": {
           "text": "Female: Yellow<br>Male: Blue<br>Non-Binary: Magenta"
          }
         },
         "colorscale": [
          [
           0,
           "#0d0887"
          ],
          [
           0.1111111111111111,
           "#46039f"
          ],
          [
           0.2222222222222222,
           "#7201a8"
          ],
          [
           0.3333333333333333,
           "#9c179e"
          ],
          [
           0.4444444444444444,
           "#bd3786"
          ],
          [
           0.5555555555555556,
           "#d8576b"
          ],
          [
           0.6666666666666666,
           "#ed7953"
          ],
          [
           0.7777777777777778,
           "#fb9f3a"
          ],
          [
           0.8888888888888888,
           "#fdca26"
          ],
          [
           1,
           "#f0f921"
          ]
         ]
        },
        "legend": {
         "tracegroupgap": 0
        },
        "template": {
         "data": {
          "bar": [
           {
            "error_x": {
             "color": "#2a3f5f"
            },
            "error_y": {
             "color": "#2a3f5f"
            },
            "marker": {
             "line": {
              "color": "#E5ECF6",
              "width": 0.5
             },
             "pattern": {
              "fillmode": "overlay",
              "size": 10,
              "solidity": 0.2
             }
            },
            "type": "bar"
           }
          ],
          "barpolar": [
           {
            "marker": {
             "line": {
              "color": "#E5ECF6",
              "width": 0.5
             },
             "pattern": {
              "fillmode": "overlay",
              "size": 10,
              "solidity": 0.2
             }
            },
            "type": "barpolar"
           }
          ],
          "carpet": [
           {
            "aaxis": {
             "endlinecolor": "#2a3f5f",
             "gridcolor": "white",
             "linecolor": "white",
             "minorgridcolor": "white",
             "startlinecolor": "#2a3f5f"
            },
            "baxis": {
             "endlinecolor": "#2a3f5f",
             "gridcolor": "white",
             "linecolor": "white",
             "minorgridcolor": "white",
             "startlinecolor": "#2a3f5f"
            },
            "type": "carpet"
           }
          ],
          "choropleth": [
           {
            "colorbar": {
             "outlinewidth": 0,
             "ticks": ""
            },
            "type": "choropleth"
           }
          ],
          "contour": [
           {
            "colorbar": {
             "outlinewidth": 0,
             "ticks": ""
            },
            "colorscale": [
             [
              0,
              "#0d0887"
             ],
             [
              0.1111111111111111,
              "#46039f"
             ],
             [
              0.2222222222222222,
              "#7201a8"
             ],
             [
              0.3333333333333333,
              "#9c179e"
             ],
             [
              0.4444444444444444,
              "#bd3786"
             ],
             [
              0.5555555555555556,
              "#d8576b"
             ],
             [
              0.6666666666666666,
              "#ed7953"
             ],
             [
              0.7777777777777778,
              "#fb9f3a"
             ],
             [
              0.8888888888888888,
              "#fdca26"
             ],
             [
              1,
              "#f0f921"
             ]
            ],
            "type": "contour"
           }
          ],
          "contourcarpet": [
           {
            "colorbar": {
             "outlinewidth": 0,
             "ticks": ""
            },
            "type": "contourcarpet"
           }
          ],
          "heatmap": [
           {
            "colorbar": {
             "outlinewidth": 0,
             "ticks": ""
            },
            "colorscale": [
             [
              0,
              "#0d0887"
             ],
             [
              0.1111111111111111,
              "#46039f"
             ],
             [
              0.2222222222222222,
              "#7201a8"
             ],
             [
              0.3333333333333333,
              "#9c179e"
             ],
             [
              0.4444444444444444,
              "#bd3786"
             ],
             [
              0.5555555555555556,
              "#d8576b"
             ],
             [
              0.6666666666666666,
              "#ed7953"
             ],
             [
              0.7777777777777778,
              "#fb9f3a"
             ],
             [
              0.8888888888888888,
              "#fdca26"
             ],
             [
              1,
              "#f0f921"
             ]
            ],
            "type": "heatmap"
           }
          ],
          "heatmapgl": [
           {
            "colorbar": {
             "outlinewidth": 0,
             "ticks": ""
            },
            "colorscale": [
             [
              0,
              "#0d0887"
             ],
             [
              0.1111111111111111,
              "#46039f"
             ],
             [
              0.2222222222222222,
              "#7201a8"
             ],
             [
              0.3333333333333333,
              "#9c179e"
             ],
             [
              0.4444444444444444,
              "#bd3786"
             ],
             [
              0.5555555555555556,
              "#d8576b"
             ],
             [
              0.6666666666666666,
              "#ed7953"
             ],
             [
              0.7777777777777778,
              "#fb9f3a"
             ],
             [
              0.8888888888888888,
              "#fdca26"
             ],
             [
              1,
              "#f0f921"
             ]
            ],
            "type": "heatmapgl"
           }
          ],
          "histogram": [
           {
            "marker": {
             "pattern": {
              "fillmode": "overlay",
              "size": 10,
              "solidity": 0.2
             }
            },
            "type": "histogram"
           }
          ],
          "histogram2d": [
           {
            "colorbar": {
             "outlinewidth": 0,
             "ticks": ""
            },
            "colorscale": [
             [
              0,
              "#0d0887"
             ],
             [
              0.1111111111111111,
              "#46039f"
             ],
             [
              0.2222222222222222,
              "#7201a8"
             ],
             [
              0.3333333333333333,
              "#9c179e"
             ],
             [
              0.4444444444444444,
              "#bd3786"
             ],
             [
              0.5555555555555556,
              "#d8576b"
             ],
             [
              0.6666666666666666,
              "#ed7953"
             ],
             [
              0.7777777777777778,
              "#fb9f3a"
             ],
             [
              0.8888888888888888,
              "#fdca26"
             ],
             [
              1,
              "#f0f921"
             ]
            ],
            "type": "histogram2d"
           }
          ],
          "histogram2dcontour": [
           {
            "colorbar": {
             "outlinewidth": 0,
             "ticks": ""
            },
            "colorscale": [
             [
              0,
              "#0d0887"
             ],
             [
              0.1111111111111111,
              "#46039f"
             ],
             [
              0.2222222222222222,
              "#7201a8"
             ],
             [
              0.3333333333333333,
              "#9c179e"
             ],
             [
              0.4444444444444444,
              "#bd3786"
             ],
             [
              0.5555555555555556,
              "#d8576b"
             ],
             [
              0.6666666666666666,
              "#ed7953"
             ],
             [
              0.7777777777777778,
              "#fb9f3a"
             ],
             [
              0.8888888888888888,
              "#fdca26"
             ],
             [
              1,
              "#f0f921"
             ]
            ],
            "type": "histogram2dcontour"
           }
          ],
          "mesh3d": [
           {
            "colorbar": {
             "outlinewidth": 0,
             "ticks": ""
            },
            "type": "mesh3d"
           }
          ],
          "parcoords": [
           {
            "line": {
             "colorbar": {
              "outlinewidth": 0,
              "ticks": ""
             }
            },
            "type": "parcoords"
           }
          ],
          "pie": [
           {
            "automargin": true,
            "type": "pie"
           }
          ],
          "scatter": [
           {
            "marker": {
             "colorbar": {
              "outlinewidth": 0,
              "ticks": ""
             }
            },
            "type": "scatter"
           }
          ],
          "scatter3d": [
           {
            "line": {
             "colorbar": {
              "outlinewidth": 0,
              "ticks": ""
             }
            },
            "marker": {
             "colorbar": {
              "outlinewidth": 0,
              "ticks": ""
             }
            },
            "type": "scatter3d"
           }
          ],
          "scattercarpet": [
           {
            "marker": {
             "colorbar": {
              "outlinewidth": 0,
              "ticks": ""
             }
            },
            "type": "scattercarpet"
           }
          ],
          "scattergeo": [
           {
            "marker": {
             "colorbar": {
              "outlinewidth": 0,
              "ticks": ""
             }
            },
            "type": "scattergeo"
           }
          ],
          "scattergl": [
           {
            "marker": {
             "colorbar": {
              "outlinewidth": 0,
              "ticks": ""
             }
            },
            "type": "scattergl"
           }
          ],
          "scattermapbox": [
           {
            "marker": {
             "colorbar": {
              "outlinewidth": 0,
              "ticks": ""
             }
            },
            "type": "scattermapbox"
           }
          ],
          "scatterpolar": [
           {
            "marker": {
             "colorbar": {
              "outlinewidth": 0,
              "ticks": ""
             }
            },
            "type": "scatterpolar"
           }
          ],
          "scatterpolargl": [
           {
            "marker": {
             "colorbar": {
              "outlinewidth": 0,
              "ticks": ""
             }
            },
            "type": "scatterpolargl"
           }
          ],
          "scatterternary": [
           {
            "marker": {
             "colorbar": {
              "outlinewidth": 0,
              "ticks": ""
             }
            },
            "type": "scatterternary"
           }
          ],
          "surface": [
           {
            "colorbar": {
             "outlinewidth": 0,
             "ticks": ""
            },
            "colorscale": [
             [
              0,
              "#0d0887"
             ],
             [
              0.1111111111111111,
              "#46039f"
             ],
             [
              0.2222222222222222,
              "#7201a8"
             ],
             [
              0.3333333333333333,
              "#9c179e"
             ],
             [
              0.4444444444444444,
              "#bd3786"
             ],
             [
              0.5555555555555556,
              "#d8576b"
             ],
             [
              0.6666666666666666,
              "#ed7953"
             ],
             [
              0.7777777777777778,
              "#fb9f3a"
             ],
             [
              0.8888888888888888,
              "#fdca26"
             ],
             [
              1,
              "#f0f921"
             ]
            ],
            "type": "surface"
           }
          ],
          "table": [
           {
            "cells": {
             "fill": {
              "color": "#EBF0F8"
             },
             "line": {
              "color": "white"
             }
            },
            "header": {
             "fill": {
              "color": "#C8D4E3"
             },
             "line": {
              "color": "white"
             }
            },
            "type": "table"
           }
          ]
         },
         "layout": {
          "annotationdefaults": {
           "arrowcolor": "#2a3f5f",
           "arrowhead": 0,
           "arrowwidth": 1
          },
          "autotypenumbers": "strict",
          "coloraxis": {
           "colorbar": {
            "outlinewidth": 0,
            "ticks": ""
           }
          },
          "colorscale": {
           "diverging": [
            [
             0,
             "#8e0152"
            ],
            [
             0.1,
             "#c51b7d"
            ],
            [
             0.2,
             "#de77ae"
            ],
            [
             0.3,
             "#f1b6da"
            ],
            [
             0.4,
             "#fde0ef"
            ],
            [
             0.5,
             "#f7f7f7"
            ],
            [
             0.6,
             "#e6f5d0"
            ],
            [
             0.7,
             "#b8e186"
            ],
            [
             0.8,
             "#7fbc41"
            ],
            [
             0.9,
             "#4d9221"
            ],
            [
             1,
             "#276419"
            ]
           ],
           "sequential": [
            [
             0,
             "#0d0887"
            ],
            [
             0.1111111111111111,
             "#46039f"
            ],
            [
             0.2222222222222222,
             "#7201a8"
            ],
            [
             0.3333333333333333,
             "#9c179e"
            ],
            [
             0.4444444444444444,
             "#bd3786"
            ],
            [
             0.5555555555555556,
             "#d8576b"
            ],
            [
             0.6666666666666666,
             "#ed7953"
            ],
            [
             0.7777777777777778,
             "#fb9f3a"
            ],
            [
             0.8888888888888888,
             "#fdca26"
            ],
            [
             1,
             "#f0f921"
            ]
           ],
           "sequentialminus": [
            [
             0,
             "#0d0887"
            ],
            [
             0.1111111111111111,
             "#46039f"
            ],
            [
             0.2222222222222222,
             "#7201a8"
            ],
            [
             0.3333333333333333,
             "#9c179e"
            ],
            [
             0.4444444444444444,
             "#bd3786"
            ],
            [
             0.5555555555555556,
             "#d8576b"
            ],
            [
             0.6666666666666666,
             "#ed7953"
            ],
            [
             0.7777777777777778,
             "#fb9f3a"
            ],
            [
             0.8888888888888888,
             "#fdca26"
            ],
            [
             1,
             "#f0f921"
            ]
           ]
          },
          "colorway": [
           "#636efa",
           "#EF553B",
           "#00cc96",
           "#ab63fa",
           "#FFA15A",
           "#19d3f3",
           "#FF6692",
           "#B6E880",
           "#FF97FF",
           "#FECB52"
          ],
          "font": {
           "color": "#2a3f5f"
          },
          "geo": {
           "bgcolor": "white",
           "lakecolor": "white",
           "landcolor": "#E5ECF6",
           "showlakes": true,
           "showland": true,
           "subunitcolor": "white"
          },
          "hoverlabel": {
           "align": "left"
          },
          "hovermode": "closest",
          "mapbox": {
           "style": "light"
          },
          "paper_bgcolor": "white",
          "plot_bgcolor": "#E5ECF6",
          "polar": {
           "angularaxis": {
            "gridcolor": "white",
            "linecolor": "white",
            "ticks": ""
           },
           "bgcolor": "#E5ECF6",
           "radialaxis": {
            "gridcolor": "white",
            "linecolor": "white",
            "ticks": ""
           }
          },
          "scene": {
           "xaxis": {
            "backgroundcolor": "#E5ECF6",
            "gridcolor": "white",
            "gridwidth": 2,
            "linecolor": "white",
            "showbackground": true,
            "ticks": "",
            "zerolinecolor": "white"
           },
           "yaxis": {
            "backgroundcolor": "#E5ECF6",
            "gridcolor": "white",
            "gridwidth": 2,
            "linecolor": "white",
            "showbackground": true,
            "ticks": "",
            "zerolinecolor": "white"
           },
           "zaxis": {
            "backgroundcolor": "#E5ECF6",
            "gridcolor": "white",
            "gridwidth": 2,
            "linecolor": "white",
            "showbackground": true,
            "ticks": "",
            "zerolinecolor": "white"
           }
          },
          "shapedefaults": {
           "line": {
            "color": "#2a3f5f"
           }
          },
          "ternary": {
           "aaxis": {
            "gridcolor": "white",
            "linecolor": "white",
            "ticks": ""
           },
           "baxis": {
            "gridcolor": "white",
            "linecolor": "white",
            "ticks": ""
           },
           "bgcolor": "#E5ECF6",
           "caxis": {
            "gridcolor": "white",
            "linecolor": "white",
            "ticks": ""
           }
          },
          "title": {
           "x": 0.05
          },
          "xaxis": {
           "automargin": true,
           "gridcolor": "white",
           "linecolor": "white",
           "ticks": "",
           "title": {
            "standoff": 15
           },
           "zerolinecolor": "white",
           "zerolinewidth": 2
          },
          "yaxis": {
           "automargin": true,
           "gridcolor": "white",
           "linecolor": "white",
           "ticks": "",
           "title": {
            "standoff": 15
           },
           "zerolinecolor": "white",
           "zerolinewidth": 2
          }
         }
        },
        "title": {
         "text": "Parallel Coordinates Plot of Gender over Time spent on Electronic Entertainment Per Week"
        }
       }
      },
      "text/html": [
       "<div>                            <div id=\"b4af06eb-1cf4-4511-86f6-38686194e14d\" class=\"plotly-graph-div\" style=\"height:525px; width:100%;\"></div>            <script type=\"text/javascript\">                require([\"plotly\"], function(Plotly) {                    window.PLOTLYENV=window.PLOTLYENV || {};                                    if (document.getElementById(\"b4af06eb-1cf4-4511-86f6-38686194e14d\")) {                    Plotly.newPlot(                        \"b4af06eb-1cf4-4511-86f6-38686194e14d\",                        [{\"dimensions\":[{\"label\":\"Hours of Video Games Played\",\"values\":[15.0,0.0,20.0,20.0,0.0,0.0,0.0,3.0,0.0,5.0,20.0,5.0,10.0,0.0,10.0,5.0,4.0,5.0,0.0,3.0,0.0,0.0,30.0,0.0,2.0,14.0,5.0,0.0,30.0,6.0,0.0,0.0,3.0,0.0,7.0,2.0,2.0,40.0,6.0,12.0,5.0,5.0,0.0,15.0,25.0,20.0,2.0,0.0,8.0,0.0,1.0,4.0,10.0,20.0,20.0,0.0,3.0,3.0,0.0,0.0,0.0,20.0,9.0,6.0,6.0,3.0,0.0,0.0,2.0,0.0,0.0,0.0,0.0,20.0,4.0,20.0,0.0,3.0,0.0,6.0,35.0,9.0,1.0,4.0,4.0,7.0,0.0,0.0,6.0,60.0,4.0,15.0,5.0,28.0,10.0,4.0,10.0,0.0,5.0,30.0,28.0,20.0]},{\"label\":\"Hours of Watching Video Games\",\"values\":[10.0,0.0,0.0,8.0,0.0,0.0,0.0,0.0,0.0,0.0,0.0,1.0,0.0,0.0,0.0,3.0,2.0,0.0,0.0,0.0,0.0,0.0,10.0,0.0,7.0,0.0,0.0,0.0,4.0,1.0,0.0,0.0,0.0,0.0,0.0,0.0,0.0,10.0,2.0,0.0,0.0,1.0,0.0,0.0,15.0,2.0,0.0,0.0,4.0,0.0,0.0,0.0,10.0,0.0,0.0,0.0,0.0,0.0,0.0,0.0,0.0,0.0,0.0,1.0,2.0,0.0,0.0,0.0,0.0,0.0,0.0,0.0,0.0,0.0,0.0,0.0,0.0,0.0,0.0,0.0,2.0,9.0,0.0,0.0,0.0,10.0,0.0,0.0,6.0,0.0,0.0,5.0,0.0,28.0,0.0,0.0,0.0,0.0,0.0,4.0,2.0,1.0]},{\"label\":\"Hours Streaming Videos\",\"values\":[15.0,14.0,20.0,15.0,5.0,4.0,5.0,3.0,10.0,22.0,40.0,10.0,25.0,10.0,10.0,20.0,84.0,3.0,1.0,10.0,5.0,2.0,40.0,20.0,7.0,12.0,12.0,5.0,21.0,3.0,10.0,4.0,4.0,10.0,0.0,10.0,5.0,50.0,6.0,12.0,8.0,15.0,11.0,0.0,40.0,20.0,5.0,10.0,2.0,20.0,3.0,12.0,14.0,20.0,10.0,1.0,2.0,8.0,5.0,35.0,3.0,10.0,7.0,8.0,3.0,2.0,2.0,0.5,25.0,5.0,10.0,15.0,3.0,30.0,24.0,15.0,20.0,5.0,3.0,8.0,18.0,30.0,9.0,25.0,6.0,35.0,15.0,8.0,10.0,20.0,8.0,6.0,20.0,28.0,30.0,3.0,10.0,5.0,30.0,28.0,21.0,30.0]}],\"domain\":{\"x\":[0.0,1.0],\"y\":[0.0,1.0]},\"line\":{\"color\":[1,3,1,1,3,3,3,1,3,3,1,1,1,1,1,1,1,1,3,1,1,3,1,1,1,1,1,1,1,1,3,3,1,1,1,3,3,1,1,1,1,1,3,1,1,1,3,1,1,1,1,1,3,2,1,1,1,1,3,1,3,1,1,1,1,3,1,3,1,2,3,3,1,1,1,1,1,1,3,1,1,1,1,1,1,3,1,3,1,1,1,1,1,1,2,1,1,1,1,1,1,1],\"coloraxis\":\"coloraxis\"},\"name\":\"\",\"type\":\"parcoords\"}],                        {\"template\":{\"data\":{\"bar\":[{\"error_x\":{\"color\":\"#2a3f5f\"},\"error_y\":{\"color\":\"#2a3f5f\"},\"marker\":{\"line\":{\"color\":\"#E5ECF6\",\"width\":0.5},\"pattern\":{\"fillmode\":\"overlay\",\"size\":10,\"solidity\":0.2}},\"type\":\"bar\"}],\"barpolar\":[{\"marker\":{\"line\":{\"color\":\"#E5ECF6\",\"width\":0.5},\"pattern\":{\"fillmode\":\"overlay\",\"size\":10,\"solidity\":0.2}},\"type\":\"barpolar\"}],\"carpet\":[{\"aaxis\":{\"endlinecolor\":\"#2a3f5f\",\"gridcolor\":\"white\",\"linecolor\":\"white\",\"minorgridcolor\":\"white\",\"startlinecolor\":\"#2a3f5f\"},\"baxis\":{\"endlinecolor\":\"#2a3f5f\",\"gridcolor\":\"white\",\"linecolor\":\"white\",\"minorgridcolor\":\"white\",\"startlinecolor\":\"#2a3f5f\"},\"type\":\"carpet\"}],\"choropleth\":[{\"colorbar\":{\"outlinewidth\":0,\"ticks\":\"\"},\"type\":\"choropleth\"}],\"contour\":[{\"colorbar\":{\"outlinewidth\":0,\"ticks\":\"\"},\"colorscale\":[[0.0,\"#0d0887\"],[0.1111111111111111,\"#46039f\"],[0.2222222222222222,\"#7201a8\"],[0.3333333333333333,\"#9c179e\"],[0.4444444444444444,\"#bd3786\"],[0.5555555555555556,\"#d8576b\"],[0.6666666666666666,\"#ed7953\"],[0.7777777777777778,\"#fb9f3a\"],[0.8888888888888888,\"#fdca26\"],[1.0,\"#f0f921\"]],\"type\":\"contour\"}],\"contourcarpet\":[{\"colorbar\":{\"outlinewidth\":0,\"ticks\":\"\"},\"type\":\"contourcarpet\"}],\"heatmap\":[{\"colorbar\":{\"outlinewidth\":0,\"ticks\":\"\"},\"colorscale\":[[0.0,\"#0d0887\"],[0.1111111111111111,\"#46039f\"],[0.2222222222222222,\"#7201a8\"],[0.3333333333333333,\"#9c179e\"],[0.4444444444444444,\"#bd3786\"],[0.5555555555555556,\"#d8576b\"],[0.6666666666666666,\"#ed7953\"],[0.7777777777777778,\"#fb9f3a\"],[0.8888888888888888,\"#fdca26\"],[1.0,\"#f0f921\"]],\"type\":\"heatmap\"}],\"heatmapgl\":[{\"colorbar\":{\"outlinewidth\":0,\"ticks\":\"\"},\"colorscale\":[[0.0,\"#0d0887\"],[0.1111111111111111,\"#46039f\"],[0.2222222222222222,\"#7201a8\"],[0.3333333333333333,\"#9c179e\"],[0.4444444444444444,\"#bd3786\"],[0.5555555555555556,\"#d8576b\"],[0.6666666666666666,\"#ed7953\"],[0.7777777777777778,\"#fb9f3a\"],[0.8888888888888888,\"#fdca26\"],[1.0,\"#f0f921\"]],\"type\":\"heatmapgl\"}],\"histogram\":[{\"marker\":{\"pattern\":{\"fillmode\":\"overlay\",\"size\":10,\"solidity\":0.2}},\"type\":\"histogram\"}],\"histogram2d\":[{\"colorbar\":{\"outlinewidth\":0,\"ticks\":\"\"},\"colorscale\":[[0.0,\"#0d0887\"],[0.1111111111111111,\"#46039f\"],[0.2222222222222222,\"#7201a8\"],[0.3333333333333333,\"#9c179e\"],[0.4444444444444444,\"#bd3786\"],[0.5555555555555556,\"#d8576b\"],[0.6666666666666666,\"#ed7953\"],[0.7777777777777778,\"#fb9f3a\"],[0.8888888888888888,\"#fdca26\"],[1.0,\"#f0f921\"]],\"type\":\"histogram2d\"}],\"histogram2dcontour\":[{\"colorbar\":{\"outlinewidth\":0,\"ticks\":\"\"},\"colorscale\":[[0.0,\"#0d0887\"],[0.1111111111111111,\"#46039f\"],[0.2222222222222222,\"#7201a8\"],[0.3333333333333333,\"#9c179e\"],[0.4444444444444444,\"#bd3786\"],[0.5555555555555556,\"#d8576b\"],[0.6666666666666666,\"#ed7953\"],[0.7777777777777778,\"#fb9f3a\"],[0.8888888888888888,\"#fdca26\"],[1.0,\"#f0f921\"]],\"type\":\"histogram2dcontour\"}],\"mesh3d\":[{\"colorbar\":{\"outlinewidth\":0,\"ticks\":\"\"},\"type\":\"mesh3d\"}],\"parcoords\":[{\"line\":{\"colorbar\":{\"outlinewidth\":0,\"ticks\":\"\"}},\"type\":\"parcoords\"}],\"pie\":[{\"automargin\":true,\"type\":\"pie\"}],\"scatter\":[{\"marker\":{\"colorbar\":{\"outlinewidth\":0,\"ticks\":\"\"}},\"type\":\"scatter\"}],\"scatter3d\":[{\"line\":{\"colorbar\":{\"outlinewidth\":0,\"ticks\":\"\"}},\"marker\":{\"colorbar\":{\"outlinewidth\":0,\"ticks\":\"\"}},\"type\":\"scatter3d\"}],\"scattercarpet\":[{\"marker\":{\"colorbar\":{\"outlinewidth\":0,\"ticks\":\"\"}},\"type\":\"scattercarpet\"}],\"scattergeo\":[{\"marker\":{\"colorbar\":{\"outlinewidth\":0,\"ticks\":\"\"}},\"type\":\"scattergeo\"}],\"scattergl\":[{\"marker\":{\"colorbar\":{\"outlinewidth\":0,\"ticks\":\"\"}},\"type\":\"scattergl\"}],\"scattermapbox\":[{\"marker\":{\"colorbar\":{\"outlinewidth\":0,\"ticks\":\"\"}},\"type\":\"scattermapbox\"}],\"scatterpolar\":[{\"marker\":{\"colorbar\":{\"outlinewidth\":0,\"ticks\":\"\"}},\"type\":\"scatterpolar\"}],\"scatterpolargl\":[{\"marker\":{\"colorbar\":{\"outlinewidth\":0,\"ticks\":\"\"}},\"type\":\"scatterpolargl\"}],\"scatterternary\":[{\"marker\":{\"colorbar\":{\"outlinewidth\":0,\"ticks\":\"\"}},\"type\":\"scatterternary\"}],\"surface\":[{\"colorbar\":{\"outlinewidth\":0,\"ticks\":\"\"},\"colorscale\":[[0.0,\"#0d0887\"],[0.1111111111111111,\"#46039f\"],[0.2222222222222222,\"#7201a8\"],[0.3333333333333333,\"#9c179e\"],[0.4444444444444444,\"#bd3786\"],[0.5555555555555556,\"#d8576b\"],[0.6666666666666666,\"#ed7953\"],[0.7777777777777778,\"#fb9f3a\"],[0.8888888888888888,\"#fdca26\"],[1.0,\"#f0f921\"]],\"type\":\"surface\"}],\"table\":[{\"cells\":{\"fill\":{\"color\":\"#EBF0F8\"},\"line\":{\"color\":\"white\"}},\"header\":{\"fill\":{\"color\":\"#C8D4E3\"},\"line\":{\"color\":\"white\"}},\"type\":\"table\"}]},\"layout\":{\"annotationdefaults\":{\"arrowcolor\":\"#2a3f5f\",\"arrowhead\":0,\"arrowwidth\":1},\"autotypenumbers\":\"strict\",\"coloraxis\":{\"colorbar\":{\"outlinewidth\":0,\"ticks\":\"\"}},\"colorscale\":{\"diverging\":[[0,\"#8e0152\"],[0.1,\"#c51b7d\"],[0.2,\"#de77ae\"],[0.3,\"#f1b6da\"],[0.4,\"#fde0ef\"],[0.5,\"#f7f7f7\"],[0.6,\"#e6f5d0\"],[0.7,\"#b8e186\"],[0.8,\"#7fbc41\"],[0.9,\"#4d9221\"],[1,\"#276419\"]],\"sequential\":[[0.0,\"#0d0887\"],[0.1111111111111111,\"#46039f\"],[0.2222222222222222,\"#7201a8\"],[0.3333333333333333,\"#9c179e\"],[0.4444444444444444,\"#bd3786\"],[0.5555555555555556,\"#d8576b\"],[0.6666666666666666,\"#ed7953\"],[0.7777777777777778,\"#fb9f3a\"],[0.8888888888888888,\"#fdca26\"],[1.0,\"#f0f921\"]],\"sequentialminus\":[[0.0,\"#0d0887\"],[0.1111111111111111,\"#46039f\"],[0.2222222222222222,\"#7201a8\"],[0.3333333333333333,\"#9c179e\"],[0.4444444444444444,\"#bd3786\"],[0.5555555555555556,\"#d8576b\"],[0.6666666666666666,\"#ed7953\"],[0.7777777777777778,\"#fb9f3a\"],[0.8888888888888888,\"#fdca26\"],[1.0,\"#f0f921\"]]},\"colorway\":[\"#636efa\",\"#EF553B\",\"#00cc96\",\"#ab63fa\",\"#FFA15A\",\"#19d3f3\",\"#FF6692\",\"#B6E880\",\"#FF97FF\",\"#FECB52\"],\"font\":{\"color\":\"#2a3f5f\"},\"geo\":{\"bgcolor\":\"white\",\"lakecolor\":\"white\",\"landcolor\":\"#E5ECF6\",\"showlakes\":true,\"showland\":true,\"subunitcolor\":\"white\"},\"hoverlabel\":{\"align\":\"left\"},\"hovermode\":\"closest\",\"mapbox\":{\"style\":\"light\"},\"paper_bgcolor\":\"white\",\"plot_bgcolor\":\"#E5ECF6\",\"polar\":{\"angularaxis\":{\"gridcolor\":\"white\",\"linecolor\":\"white\",\"ticks\":\"\"},\"bgcolor\":\"#E5ECF6\",\"radialaxis\":{\"gridcolor\":\"white\",\"linecolor\":\"white\",\"ticks\":\"\"}},\"scene\":{\"xaxis\":{\"backgroundcolor\":\"#E5ECF6\",\"gridcolor\":\"white\",\"gridwidth\":2,\"linecolor\":\"white\",\"showbackground\":true,\"ticks\":\"\",\"zerolinecolor\":\"white\"},\"yaxis\":{\"backgroundcolor\":\"#E5ECF6\",\"gridcolor\":\"white\",\"gridwidth\":2,\"linecolor\":\"white\",\"showbackground\":true,\"ticks\":\"\",\"zerolinecolor\":\"white\"},\"zaxis\":{\"backgroundcolor\":\"#E5ECF6\",\"gridcolor\":\"white\",\"gridwidth\":2,\"linecolor\":\"white\",\"showbackground\":true,\"ticks\":\"\",\"zerolinecolor\":\"white\"}},\"shapedefaults\":{\"line\":{\"color\":\"#2a3f5f\"}},\"ternary\":{\"aaxis\":{\"gridcolor\":\"white\",\"linecolor\":\"white\",\"ticks\":\"\"},\"baxis\":{\"gridcolor\":\"white\",\"linecolor\":\"white\",\"ticks\":\"\"},\"bgcolor\":\"#E5ECF6\",\"caxis\":{\"gridcolor\":\"white\",\"linecolor\":\"white\",\"ticks\":\"\"}},\"title\":{\"x\":0.05},\"xaxis\":{\"automargin\":true,\"gridcolor\":\"white\",\"linecolor\":\"white\",\"ticks\":\"\",\"title\":{\"standoff\":15},\"zerolinecolor\":\"white\",\"zerolinewidth\":2},\"yaxis\":{\"automargin\":true,\"gridcolor\":\"white\",\"linecolor\":\"white\",\"ticks\":\"\",\"title\":{\"standoff\":15},\"zerolinecolor\":\"white\",\"zerolinewidth\":2}}},\"coloraxis\":{\"colorbar\":{\"title\":{\"text\":\"Female: Yellow<br>Male: Blue<br>Non-Binary: Magenta\"}},\"colorscale\":[[0.0,\"#0d0887\"],[0.1111111111111111,\"#46039f\"],[0.2222222222222222,\"#7201a8\"],[0.3333333333333333,\"#9c179e\"],[0.4444444444444444,\"#bd3786\"],[0.5555555555555556,\"#d8576b\"],[0.6666666666666666,\"#ed7953\"],[0.7777777777777778,\"#fb9f3a\"],[0.8888888888888888,\"#fdca26\"],[1.0,\"#f0f921\"]]},\"legend\":{\"tracegroupgap\":0},\"title\":{\"text\":\"Parallel Coordinates Plot of Gender over Time spent on Electronic Entertainment Per Week\"}},                        {\"responsive\": true}                    ).then(function(){\n",
       "                            \n",
       "var gd = document.getElementById('b4af06eb-1cf4-4511-86f6-38686194e14d');\n",
       "var x = new MutationObserver(function (mutations, observer) {{\n",
       "        var display = window.getComputedStyle(gd).display;\n",
       "        if (!display || display === 'none') {{\n",
       "            console.log([gd, 'removed!']);\n",
       "            Plotly.purge(gd);\n",
       "            observer.disconnect();\n",
       "        }}\n",
       "}});\n",
       "\n",
       "// Listen for the removal of the full notebook cells\n",
       "var notebookContainer = gd.closest('#notebook-container');\n",
       "if (notebookContainer) {{\n",
       "    x.observe(notebookContainer, {childList: true});\n",
       "}}\n",
       "\n",
       "// Listen for the clearing of the current output cell\n",
       "var outputEl = gd.closest('.output');\n",
       "if (outputEl) {{\n",
       "    x.observe(outputEl, {childList: true});\n",
       "}}\n",
       "\n",
       "                        })                };                });            </script>        </div>"
      ]
     },
     "metadata": {},
     "output_type": "display_data"
    }
   ],
   "source": [
    "impdf['Gender']=impdf['Gender'].replace(to_replace='Male', value=1).replace(to_replace='Female', value=3).replace(to_replace='Non-binary/non-conforming', value=2)\n",
    "fig = px.parallel_coordinates(impdf, color='Gender',\n",
    "                              dimensions=['HourPlayed', 'HourWatched', 'Streaming'], labels = {\n",
    "    \"HourPlayed\": \"Hours of Video Games Played\",\n",
    "    \"Streaming\": \"Hours Streaming Videos\",\n",
    "    \"HourWatched\": \"Hours of Watching Video Games\",\n",
    "    \"Gender\": \"Female: Yellow<br>Male: Blue<br>Non-Binary: Magenta\"\n",
    "}, title=\"Parallel Coordinates Plot of Gender over Time spent on Electronic Entertainment Per Week\")\n",
    "fig.show()"
   ]
  },
  {
   "cell_type": "markdown",
   "id": "9e8ba18e",
   "metadata": {},
   "source": [
    "This visualization is a little more difficult to read, but it is a parallel coordinates plot between hours playing games, hours watching video games, and hours streaming videos. The different colors are the genders with yellow being female, blue being male, and magenta being non-binary.\n",
    "\n",
    "Focus on the colors, you will see that almost all of the yellow lines converge to 0 in the games watched column. On the other hand the blue lines are all over the place. This shows that while the male students consume gaming content when they play games, it appears that even if female students play games, on average they do not watch any gaming streams. This does not mean that female students do not stream videos though, from the graph if you see the streaming videos column, the female students diverge from 0 into different values ranging from 0-35ish hours per week.\n",
    "\n",
    "There are the two exceptions that watch a fair bit of games, but almost every female student that plays games does not watch any games. Also notice how most female students play much less games than their male counterparts. From the female students that play video games, they are all under the 10 hour mark per week.\n",
    "\n",
    "Male students on the other hand range from the entire spectrum.\n",
    "\n",
    "This graph although hard to read, highlights some aspects of the data in relation to gender particularly well as pointed out above."
   ]
  },
  {
   "cell_type": "code",
   "execution_count": 68,
   "id": "678c2ad9",
   "metadata": {
    "scrolled": false
   },
   "outputs": [
    {
     "name": "stdout",
     "output_type": "stream",
     "text": [
      "(0, 10]     46\n",
      "(-10, 0]    40\n",
      "(10, 20]    15\n",
      "(20, 30]     6\n",
      "(30, 40]     2\n",
      "(50, 60]     1\n",
      "(40, 50]     0\n",
      "(60, 70]     0\n",
      "(70, 80]     0\n",
      "(80, 90]     0\n",
      "Name: HourPlayed, dtype: int64\n"
     ]
    }
   ],
   "source": [
    "#Creating chi square test for bins of values to turn numerical data into categorical data\n",
    "#Bins: 0, 1-5, 6-10, 11-15, 16-20, 21-25, 26-30, 31-35, ... 55-60 \n",
    "\n",
    "bins = range(-10,100,10)\n",
    "df = df.dropna(subset=['HourPlayed', 'HourWatched'])\n",
    "df['HourPlayedBins'] = pd.cut(df['HourPlayed'],bins)\n",
    "df['HourWatchedBins'] = pd.cut(df['HourWatched'],bins)"
   ]
  },
  {
   "cell_type": "code",
   "execution_count": 71,
   "id": "57cb680d",
   "metadata": {},
   "outputs": [
    {
     "name": "stdout",
     "output_type": "stream",
     "text": [
      "0       (0, 10]\n",
      "1      (-10, 0]\n",
      "2      (-10, 0]\n",
      "3       (0, 10]\n",
      "4      (-10, 0]\n",
      "         ...   \n",
      "105    (-10, 0]\n",
      "106    (-10, 0]\n",
      "107     (0, 10]\n",
      "108     (0, 10]\n",
      "109     (0, 10]\n",
      "Name: HourWatchedBins, Length: 110, dtype: category\n",
      "Categories (10, interval[int64, right]): [(-10, 0] < (0, 10] < (10, 20] < (20, 30] ... (50, 60] < (60, 70] < (70, 80] < (80, 90]]\n"
     ]
    }
   ],
   "source": [
    "print(df['HourWatchedBins'])"
   ]
  },
  {
   "cell_type": "code",
   "execution_count": 97,
   "id": "d789654a",
   "metadata": {},
   "outputs": [
    {
     "data": {
      "text/html": [
       "<div>\n",
       "<style scoped>\n",
       "    .dataframe tbody tr th:only-of-type {\n",
       "        vertical-align: middle;\n",
       "    }\n",
       "\n",
       "    .dataframe tbody tr th {\n",
       "        vertical-align: top;\n",
       "    }\n",
       "\n",
       "    .dataframe thead th {\n",
       "        text-align: right;\n",
       "    }\n",
       "</style>\n",
       "<table border=\"1\" class=\"dataframe\">\n",
       "  <thead>\n",
       "    <tr style=\"text-align: right;\">\n",
       "      <th>HourWatchedBins</th>\n",
       "      <th>(-10, 0]</th>\n",
       "      <th>(0, 10]</th>\n",
       "      <th>(10, 20]</th>\n",
       "      <th>(20, 30]</th>\n",
       "    </tr>\n",
       "    <tr>\n",
       "      <th>HourPlayedBins</th>\n",
       "      <th></th>\n",
       "      <th></th>\n",
       "      <th></th>\n",
       "      <th></th>\n",
       "    </tr>\n",
       "  </thead>\n",
       "  <tbody>\n",
       "    <tr>\n",
       "      <th>(-10, 0]</th>\n",
       "      <td>40</td>\n",
       "      <td>0</td>\n",
       "      <td>0</td>\n",
       "      <td>0</td>\n",
       "    </tr>\n",
       "    <tr>\n",
       "      <th>(0, 10]</th>\n",
       "      <td>32</td>\n",
       "      <td>14</td>\n",
       "      <td>0</td>\n",
       "      <td>0</td>\n",
       "    </tr>\n",
       "    <tr>\n",
       "      <th>(10, 20]</th>\n",
       "      <td>10</td>\n",
       "      <td>5</td>\n",
       "      <td>0</td>\n",
       "      <td>0</td>\n",
       "    </tr>\n",
       "    <tr>\n",
       "      <th>(20, 30]</th>\n",
       "      <td>0</td>\n",
       "      <td>4</td>\n",
       "      <td>1</td>\n",
       "      <td>1</td>\n",
       "    </tr>\n",
       "    <tr>\n",
       "      <th>(30, 40]</th>\n",
       "      <td>0</td>\n",
       "      <td>2</td>\n",
       "      <td>0</td>\n",
       "      <td>0</td>\n",
       "    </tr>\n",
       "    <tr>\n",
       "      <th>(50, 60]</th>\n",
       "      <td>1</td>\n",
       "      <td>0</td>\n",
       "      <td>0</td>\n",
       "      <td>0</td>\n",
       "    </tr>\n",
       "  </tbody>\n",
       "</table>\n",
       "</div>"
      ],
      "text/plain": [
       "HourWatchedBins  (-10, 0]  (0, 10]  (10, 20]  (20, 30]\n",
       "HourPlayedBins                                        \n",
       "(-10, 0]               40        0         0         0\n",
       "(0, 10]                32       14         0         0\n",
       "(10, 20]               10        5         0         0\n",
       "(20, 30]                0        4         1         1\n",
       "(30, 40]                0        2         0         0\n",
       "(50, 60]                1        0         0         0"
      ]
     },
     "execution_count": 97,
     "metadata": {},
     "output_type": "execute_result"
    }
   ],
   "source": [
    "chitable = pd.DataFrame()\n",
    "chitable['HourPlayedBins'] = df['HourPlayedBins']\n",
    "chitable['HourWatchedBins'] = df['HourWatchedBins']\n",
    "chitable['HourWatched'] = df['HourWatched']\n",
    "chitable.pivot_table(index='HourPlayedBins', columns='HourWatchedBins', aggfunc='count')\n",
    "contingency = pd.crosstab(chitable['HourPlayedBins'], chitable['HourWatchedBins'])\n",
    "contingency"
   ]
  },
  {
   "cell_type": "code",
   "execution_count": 98,
   "id": "f4d348d6",
   "metadata": {},
   "outputs": [
    {
     "name": "stdout",
     "output_type": "stream",
     "text": [
      "2.3215745527735668e-08\n"
     ]
    }
   ],
   "source": [
    "from scipy.stats import chi2_contingency\n",
    "c, p, dof, expected = chi2_contingency(contingency) \n",
    "print(p)"
   ]
  },
  {
   "cell_type": "markdown",
   "id": "90386153",
   "metadata": {},
   "source": [
    "Above I computed the chi square test for HourWatched vs. HourPlayed by turning each of the numeric variables into bins first to make the variables categorical. I then applied the chi square test to get a p-value of 2.32e-08. The null hypothesis in this case is that the hours playing games per week and the hours watching gaming streams per week are independent. The P-value represents the probability that this is the case. Since the probability is so low, I reject the null hypothesis and state that the hours playing games per week are correlated to the hours watching gaming streams per week."
   ]
  }
 ],
 "metadata": {
  "kernelspec": {
   "display_name": "Python 3 (ipykernel)",
   "language": "python",
   "name": "python3"
  },
  "language_info": {
   "codemirror_mode": {
    "name": "ipython",
    "version": 3
   },
   "file_extension": ".py",
   "mimetype": "text/x-python",
   "name": "python",
   "nbconvert_exporter": "python",
   "pygments_lexer": "ipython3",
   "version": "3.9.12"
  }
 },
 "nbformat": 4,
 "nbformat_minor": 5
}
